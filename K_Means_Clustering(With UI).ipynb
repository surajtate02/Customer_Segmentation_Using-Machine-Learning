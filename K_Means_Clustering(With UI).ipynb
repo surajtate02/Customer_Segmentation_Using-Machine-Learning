{
 "cells": [
  {
   "cell_type": "markdown",
   "metadata": {
    "id": "SW_B1RS76Way"
   },
   "source": [
    "# **Behavioral Segmentation Using K-Means Clustering ML Algorithm (Unsupervised Learning)**"
   ]
  },
  {
   "cell_type": "markdown",
   "metadata": {
    "id": "knIkWBsQ50gl"
   },
   "source": [
    "### Given Dataset\n",
    "K={2,3,4,10,11,12,20,25,30}\n",
    "\n",
    "Let say, we want to create two clusters, \n",
    "**Take K=2**\n",
    "\n",
    "As we are randomly select the two mean values: Lets cal for Cluster\n",
    "\n",
    "- Step 1:\n",
    "    - M1=4\t\tM2=12\n",
    "    - K1={2,3,4}\tK2={10,11,12,20,25,30}\n",
    "\n",
    "- Step 2:\n",
    "    - Take the mean for K1 and K2\n",
    "    - M1=3\t\tM2=18\n",
    "    - K1={2,3,4,10}\tK2={11,12,20,25,30}\n",
    "\n",
    "- Step3:\n",
    "    - Again take the mean for K1 and K2\n",
    "    - M1=4.75\t\t\tM2=19.6\n",
    "    - K1={2,3,4,10,11,12}\tK2={20,25,30}\n",
    "\n",
    "- Step4:\n",
    "    - Again take the mean for K1 and K2\n",
    "    - M1=7\t\t\tM2=25\n",
    "    - K1={2,3,4,10,11,12}\tK2={20,25,30}\n",
    "\n",
    "- Step5:\n",
    "    - Again take the mean for K1 and K2\n",
    "    - M1=7\t\t\tM2=25\n",
    "    - K1={2,3,4,10,11,12}\tK2={20,25,30}\n",
    "    - M1=7\t\t\tM2=25\n",
    "\n",
    "**As we got the same mean, so we have to stop**\n",
    "so our new cluster is :\n",
    "- K1={2,3,4,10,11,12}\n",
    "- K2={20,25,30}"
   ]
  },
  {
   "cell_type": "markdown",
   "metadata": {
    "id": "eQ37bEyN6A_Z"
   },
   "source": [
    "### In a dataset all independent variable \n",
    "### we want find out dependent variable (imp)\n",
    "### we know feature only not a lable\n",
    "### Our final out is this cluster(e.g cluster 2 belong customer id 1, cluster  3 belong customer id 2, cluster 4 belong customer id 5 etc."
   ]
  },
  {
   "cell_type": "markdown",
   "metadata": {
    "id": "fcIkAq7d7N6W"
   },
   "source": [
    "**Import Libraries**"
   ]
  },
  {
   "cell_type": "code",
   "execution_count": 1,
   "metadata": {
    "id": "CTgZQ6xJ7Th8"
   },
   "outputs": [],
   "source": [
    "import pandas as pd\n",
    "import numpy as np\n",
    "import matplotlib.pyplot as plt\n",
    "from sklearn.cluster import KMeans\n",
    "import joblib"
   ]
  },
  {
   "cell_type": "code",
   "execution_count": 2,
   "metadata": {
    "colab": {
     "base_uri": "https://localhost:8080/",
     "height": 73,
     "resources": {
      "http://localhost:8080/nbextensions/google.colab/files.js": {
       "data": "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",
       "headers": [
        [
         "content-type",
         "application/javascript"
        ]
       ],
       "ok": true,
       "status": 200,
       "status_text": ""
      }
     }
    },
    "id": "imxgM6P97nD7",
    "outputId": "a4c25222-789f-47cb-d473-5a9e2e15ec75"
   },
   "outputs": [],
   "source": [
    "#from google.colab import files\n",
    "#uploaded = files.upload()\n",
    "\n",
    "#from google.colab import drive\n",
    "#drive.mount('/content/drive')\n",
    "\n",
    "#path = \"/content/Customers.csv\"\n",
    "#df = pd.read_csv(\"/content/Customers.csv\")\n",
    "#df"
   ]
  },
  {
   "cell_type": "code",
   "execution_count": null,
   "metadata": {
    "colab": {
     "base_uri": "https://localhost:8080/"
    },
    "id": "J5eWEWoA-aCJ",
    "outputId": "0196e626-f755-47c2-b497-6454a4de8704"
   },
   "outputs": [],
   "source": []
  },
  {
   "cell_type": "code",
   "execution_count": 4,
   "metadata": {
    "colab": {
     "base_uri": "https://localhost:8080/",
     "height": 424
    },
    "id": "UkFJcCe9-d3K",
    "outputId": "51610d76-22a9-44b2-a167-6932497b2617"
   },
   "outputs": [
    {
     "data": {
      "text/html": [
       "<div>\n",
       "<style scoped>\n",
       "    .dataframe tbody tr th:only-of-type {\n",
       "        vertical-align: middle;\n",
       "    }\n",
       "\n",
       "    .dataframe tbody tr th {\n",
       "        vertical-align: top;\n",
       "    }\n",
       "\n",
       "    .dataframe thead th {\n",
       "        text-align: right;\n",
       "    }\n",
       "</style>\n",
       "<table border=\"1\" class=\"dataframe\">\n",
       "  <thead>\n",
       "    <tr style=\"text-align: right;\">\n",
       "      <th></th>\n",
       "      <th>CustomerID</th>\n",
       "      <th>Gender</th>\n",
       "      <th>Age</th>\n",
       "      <th>Annual Income (k$)</th>\n",
       "      <th>Spending Score (1-100)</th>\n",
       "    </tr>\n",
       "  </thead>\n",
       "  <tbody>\n",
       "    <tr>\n",
       "      <th>0</th>\n",
       "      <td>1</td>\n",
       "      <td>Male</td>\n",
       "      <td>19</td>\n",
       "      <td>15</td>\n",
       "      <td>39</td>\n",
       "    </tr>\n",
       "    <tr>\n",
       "      <th>1</th>\n",
       "      <td>2</td>\n",
       "      <td>Male</td>\n",
       "      <td>21</td>\n",
       "      <td>15</td>\n",
       "      <td>81</td>\n",
       "    </tr>\n",
       "    <tr>\n",
       "      <th>2</th>\n",
       "      <td>3</td>\n",
       "      <td>Female</td>\n",
       "      <td>20</td>\n",
       "      <td>16</td>\n",
       "      <td>6</td>\n",
       "    </tr>\n",
       "    <tr>\n",
       "      <th>3</th>\n",
       "      <td>4</td>\n",
       "      <td>Female</td>\n",
       "      <td>23</td>\n",
       "      <td>16</td>\n",
       "      <td>77</td>\n",
       "    </tr>\n",
       "    <tr>\n",
       "      <th>4</th>\n",
       "      <td>5</td>\n",
       "      <td>Female</td>\n",
       "      <td>31</td>\n",
       "      <td>17</td>\n",
       "      <td>40</td>\n",
       "    </tr>\n",
       "    <tr>\n",
       "      <th>...</th>\n",
       "      <td>...</td>\n",
       "      <td>...</td>\n",
       "      <td>...</td>\n",
       "      <td>...</td>\n",
       "      <td>...</td>\n",
       "    </tr>\n",
       "    <tr>\n",
       "      <th>195</th>\n",
       "      <td>196</td>\n",
       "      <td>Female</td>\n",
       "      <td>35</td>\n",
       "      <td>120</td>\n",
       "      <td>79</td>\n",
       "    </tr>\n",
       "    <tr>\n",
       "      <th>196</th>\n",
       "      <td>197</td>\n",
       "      <td>Female</td>\n",
       "      <td>45</td>\n",
       "      <td>126</td>\n",
       "      <td>28</td>\n",
       "    </tr>\n",
       "    <tr>\n",
       "      <th>197</th>\n",
       "      <td>198</td>\n",
       "      <td>Male</td>\n",
       "      <td>32</td>\n",
       "      <td>126</td>\n",
       "      <td>74</td>\n",
       "    </tr>\n",
       "    <tr>\n",
       "      <th>198</th>\n",
       "      <td>199</td>\n",
       "      <td>Male</td>\n",
       "      <td>32</td>\n",
       "      <td>137</td>\n",
       "      <td>18</td>\n",
       "    </tr>\n",
       "    <tr>\n",
       "      <th>199</th>\n",
       "      <td>200</td>\n",
       "      <td>Male</td>\n",
       "      <td>30</td>\n",
       "      <td>137</td>\n",
       "      <td>83</td>\n",
       "    </tr>\n",
       "  </tbody>\n",
       "</table>\n",
       "<p>200 rows × 5 columns</p>\n",
       "</div>"
      ],
      "text/plain": [
       "     CustomerID  Gender  Age  Annual Income (k$)  Spending Score (1-100)\n",
       "0             1    Male   19                  15                      39\n",
       "1             2    Male   21                  15                      81\n",
       "2             3  Female   20                  16                       6\n",
       "3             4  Female   23                  16                      77\n",
       "4             5  Female   31                  17                      40\n",
       "..          ...     ...  ...                 ...                     ...\n",
       "195         196  Female   35                 120                      79\n",
       "196         197  Female   45                 126                      28\n",
       "197         198    Male   32                 126                      74\n",
       "198         199    Male   32                 137                      18\n",
       "199         200    Male   30                 137                      83\n",
       "\n",
       "[200 rows x 5 columns]"
      ]
     },
     "execution_count": 4,
     "metadata": {},
     "output_type": "execute_result"
    }
   ],
   "source": [
    "\n",
    "df = pd.read_csv(\"Customers.csv\")\n",
    "df"
   ]
  },
  {
   "cell_type": "markdown",
   "metadata": {
    "id": "ZtL6XK7bDCT4"
   },
   "source": [
    "### 1. Display Top 5 Rows Of The Dataset"
   ]
  },
  {
   "cell_type": "code",
   "execution_count": 5,
   "metadata": {
    "colab": {
     "base_uri": "https://localhost:8080/",
     "height": 215
    },
    "id": "uqMXQogyDMxe",
    "outputId": "5cf47569-79b5-4136-d49f-d5fd26c8a277"
   },
   "outputs": [
    {
     "data": {
      "text/html": [
       "<div>\n",
       "<style scoped>\n",
       "    .dataframe tbody tr th:only-of-type {\n",
       "        vertical-align: middle;\n",
       "    }\n",
       "\n",
       "    .dataframe tbody tr th {\n",
       "        vertical-align: top;\n",
       "    }\n",
       "\n",
       "    .dataframe thead th {\n",
       "        text-align: right;\n",
       "    }\n",
       "</style>\n",
       "<table border=\"1\" class=\"dataframe\">\n",
       "  <thead>\n",
       "    <tr style=\"text-align: right;\">\n",
       "      <th></th>\n",
       "      <th>CustomerID</th>\n",
       "      <th>Gender</th>\n",
       "      <th>Age</th>\n",
       "      <th>Annual Income (k$)</th>\n",
       "      <th>Spending Score (1-100)</th>\n",
       "    </tr>\n",
       "  </thead>\n",
       "  <tbody>\n",
       "    <tr>\n",
       "      <th>0</th>\n",
       "      <td>1</td>\n",
       "      <td>Male</td>\n",
       "      <td>19</td>\n",
       "      <td>15</td>\n",
       "      <td>39</td>\n",
       "    </tr>\n",
       "    <tr>\n",
       "      <th>1</th>\n",
       "      <td>2</td>\n",
       "      <td>Male</td>\n",
       "      <td>21</td>\n",
       "      <td>15</td>\n",
       "      <td>81</td>\n",
       "    </tr>\n",
       "    <tr>\n",
       "      <th>2</th>\n",
       "      <td>3</td>\n",
       "      <td>Female</td>\n",
       "      <td>20</td>\n",
       "      <td>16</td>\n",
       "      <td>6</td>\n",
       "    </tr>\n",
       "    <tr>\n",
       "      <th>3</th>\n",
       "      <td>4</td>\n",
       "      <td>Female</td>\n",
       "      <td>23</td>\n",
       "      <td>16</td>\n",
       "      <td>77</td>\n",
       "    </tr>\n",
       "    <tr>\n",
       "      <th>4</th>\n",
       "      <td>5</td>\n",
       "      <td>Female</td>\n",
       "      <td>31</td>\n",
       "      <td>17</td>\n",
       "      <td>40</td>\n",
       "    </tr>\n",
       "  </tbody>\n",
       "</table>\n",
       "</div>"
      ],
      "text/plain": [
       "   CustomerID  Gender  Age  Annual Income (k$)  Spending Score (1-100)\n",
       "0           1    Male   19                  15                      39\n",
       "1           2    Male   21                  15                      81\n",
       "2           3  Female   20                  16                       6\n",
       "3           4  Female   23                  16                      77\n",
       "4           5  Female   31                  17                      40"
      ]
     },
     "execution_count": 5,
     "metadata": {},
     "output_type": "execute_result"
    }
   ],
   "source": [
    "df.head()"
   ]
  },
  {
   "cell_type": "markdown",
   "metadata": {
    "id": "5jt0UvE2Dm9q"
   },
   "source": [
    "### 2. Display Top 5 Rows Of The Dataset"
   ]
  },
  {
   "cell_type": "code",
   "execution_count": 6,
   "metadata": {
    "colab": {
     "base_uri": "https://localhost:8080/",
     "height": 206
    },
    "id": "6UhRxaoyDlMK",
    "outputId": "c44fe536-4c77-4720-9e2a-6d148f231048"
   },
   "outputs": [
    {
     "data": {
      "text/html": [
       "<div>\n",
       "<style scoped>\n",
       "    .dataframe tbody tr th:only-of-type {\n",
       "        vertical-align: middle;\n",
       "    }\n",
       "\n",
       "    .dataframe tbody tr th {\n",
       "        vertical-align: top;\n",
       "    }\n",
       "\n",
       "    .dataframe thead th {\n",
       "        text-align: right;\n",
       "    }\n",
       "</style>\n",
       "<table border=\"1\" class=\"dataframe\">\n",
       "  <thead>\n",
       "    <tr style=\"text-align: right;\">\n",
       "      <th></th>\n",
       "      <th>CustomerID</th>\n",
       "      <th>Gender</th>\n",
       "      <th>Age</th>\n",
       "      <th>Annual Income (k$)</th>\n",
       "      <th>Spending Score (1-100)</th>\n",
       "    </tr>\n",
       "  </thead>\n",
       "  <tbody>\n",
       "    <tr>\n",
       "      <th>195</th>\n",
       "      <td>196</td>\n",
       "      <td>Female</td>\n",
       "      <td>35</td>\n",
       "      <td>120</td>\n",
       "      <td>79</td>\n",
       "    </tr>\n",
       "    <tr>\n",
       "      <th>196</th>\n",
       "      <td>197</td>\n",
       "      <td>Female</td>\n",
       "      <td>45</td>\n",
       "      <td>126</td>\n",
       "      <td>28</td>\n",
       "    </tr>\n",
       "    <tr>\n",
       "      <th>197</th>\n",
       "      <td>198</td>\n",
       "      <td>Male</td>\n",
       "      <td>32</td>\n",
       "      <td>126</td>\n",
       "      <td>74</td>\n",
       "    </tr>\n",
       "    <tr>\n",
       "      <th>198</th>\n",
       "      <td>199</td>\n",
       "      <td>Male</td>\n",
       "      <td>32</td>\n",
       "      <td>137</td>\n",
       "      <td>18</td>\n",
       "    </tr>\n",
       "    <tr>\n",
       "      <th>199</th>\n",
       "      <td>200</td>\n",
       "      <td>Male</td>\n",
       "      <td>30</td>\n",
       "      <td>137</td>\n",
       "      <td>83</td>\n",
       "    </tr>\n",
       "  </tbody>\n",
       "</table>\n",
       "</div>"
      ],
      "text/plain": [
       "     CustomerID  Gender  Age  Annual Income (k$)  Spending Score (1-100)\n",
       "195         196  Female   35                 120                      79\n",
       "196         197  Female   45                 126                      28\n",
       "197         198    Male   32                 126                      74\n",
       "198         199    Male   32                 137                      18\n",
       "199         200    Male   30                 137                      83"
      ]
     },
     "execution_count": 6,
     "metadata": {},
     "output_type": "execute_result"
    }
   ],
   "source": [
    "df.tail()"
   ]
  },
  {
   "cell_type": "markdown",
   "metadata": {
    "id": "5wShmp0uD0mk"
   },
   "source": [
    "### 3. Find Shape Of Our Dataset(Number Of Rows And Number Of Columns)"
   ]
  },
  {
   "cell_type": "code",
   "execution_count": 7,
   "metadata": {
    "colab": {
     "base_uri": "https://localhost:8080/"
    },
    "id": "tVCYfXG0Ee2e",
    "outputId": "5f6b4c7e-1324-401a-9e4e-9f6cf04c57d6"
   },
   "outputs": [
    {
     "data": {
      "text/plain": [
       "(200, 5)"
      ]
     },
     "execution_count": 7,
     "metadata": {},
     "output_type": "execute_result"
    }
   ],
   "source": [
    "df.shape"
   ]
  },
  {
   "cell_type": "markdown",
   "metadata": {
    "id": "uhzEOgNPE9-S"
   },
   "source": [
    "### 4. Get Information About Our Dataset Like Total Number Rows, Total Number Of Columns, DataType Of Each And Memory Requirement."
   ]
  },
  {
   "cell_type": "code",
   "execution_count": 8,
   "metadata": {
    "colab": {
     "base_uri": "https://localhost:8080/"
    },
    "id": "AFHMUJhxF-PJ",
    "outputId": "aaf76699-5d1a-4172-947a-e865ff81a209"
   },
   "outputs": [
    {
     "name": "stdout",
     "output_type": "stream",
     "text": [
      "Number Of Rows 200\n",
      "Number Of Coloums 5\n"
     ]
    }
   ],
   "source": [
    "print(\"Number Of Rows\",df.shape[0])\n",
    "print(\"Number Of Coloums\",df.shape[1])"
   ]
  },
  {
   "cell_type": "code",
   "execution_count": 9,
   "metadata": {
    "colab": {
     "base_uri": "https://localhost:8080/"
    },
    "id": "MZ0XG4YoFZoZ",
    "outputId": "048e9300-1833-4e51-8f74-2893895eba53"
   },
   "outputs": [
    {
     "name": "stdout",
     "output_type": "stream",
     "text": [
      "<class 'pandas.core.frame.DataFrame'>\n",
      "RangeIndex: 200 entries, 0 to 199\n",
      "Data columns (total 5 columns):\n",
      " #   Column                  Non-Null Count  Dtype \n",
      "---  ------                  --------------  ----- \n",
      " 0   CustomerID              200 non-null    int64 \n",
      " 1   Gender                  200 non-null    object\n",
      " 2   Age                     200 non-null    int64 \n",
      " 3   Annual Income (k$)      200 non-null    int64 \n",
      " 4   Spending Score (1-100)  200 non-null    int64 \n",
      "dtypes: int64(4), object(1)\n",
      "memory usage: 7.9+ KB\n"
     ]
    }
   ],
   "source": [
    "  df.info()"
   ]
  },
  {
   "cell_type": "markdown",
   "metadata": {
    "id": "w1C9XLdeILBr"
   },
   "source": [
    "### 5. Check Null Values In The Dataset"
   ]
  },
  {
   "cell_type": "code",
   "execution_count": 10,
   "metadata": {
    "colab": {
     "base_uri": "https://localhost:8080/"
    },
    "id": "4-nXu0XtH04b",
    "outputId": "c6a6d68e-3d72-455e-9023-7ffd96686794"
   },
   "outputs": [
    {
     "data": {
      "text/plain": [
       "CustomerID                0\n",
       "Gender                    0\n",
       "Age                       0\n",
       "Annual Income (k$)        0\n",
       "Spending Score (1-100)    0\n",
       "dtype: int64"
      ]
     },
     "execution_count": 10,
     "metadata": {},
     "output_type": "execute_result"
    }
   ],
   "source": [
    "df.isnull().sum()"
   ]
  },
  {
   "cell_type": "markdown",
   "metadata": {
    "id": "sOOfCB7XJu68"
   },
   "source": [
    "### 6. Get Overall Statistics About The Dataset"
   ]
  },
  {
   "cell_type": "code",
   "execution_count": 11,
   "metadata": {
    "colab": {
     "base_uri": "https://localhost:8080/",
     "height": 300
    },
    "id": "4so0j3QfIWUp",
    "outputId": "76905934-98f8-42b3-80db-2d019ae1e4b8"
   },
   "outputs": [
    {
     "data": {
      "text/html": [
       "<div>\n",
       "<style scoped>\n",
       "    .dataframe tbody tr th:only-of-type {\n",
       "        vertical-align: middle;\n",
       "    }\n",
       "\n",
       "    .dataframe tbody tr th {\n",
       "        vertical-align: top;\n",
       "    }\n",
       "\n",
       "    .dataframe thead th {\n",
       "        text-align: right;\n",
       "    }\n",
       "</style>\n",
       "<table border=\"1\" class=\"dataframe\">\n",
       "  <thead>\n",
       "    <tr style=\"text-align: right;\">\n",
       "      <th></th>\n",
       "      <th>CustomerID</th>\n",
       "      <th>Age</th>\n",
       "      <th>Annual Income (k$)</th>\n",
       "      <th>Spending Score (1-100)</th>\n",
       "    </tr>\n",
       "  </thead>\n",
       "  <tbody>\n",
       "    <tr>\n",
       "      <th>count</th>\n",
       "      <td>200.000000</td>\n",
       "      <td>200.000000</td>\n",
       "      <td>200.000000</td>\n",
       "      <td>200.000000</td>\n",
       "    </tr>\n",
       "    <tr>\n",
       "      <th>mean</th>\n",
       "      <td>100.500000</td>\n",
       "      <td>38.850000</td>\n",
       "      <td>60.560000</td>\n",
       "      <td>50.200000</td>\n",
       "    </tr>\n",
       "    <tr>\n",
       "      <th>std</th>\n",
       "      <td>57.879185</td>\n",
       "      <td>13.969007</td>\n",
       "      <td>26.264721</td>\n",
       "      <td>25.823522</td>\n",
       "    </tr>\n",
       "    <tr>\n",
       "      <th>min</th>\n",
       "      <td>1.000000</td>\n",
       "      <td>18.000000</td>\n",
       "      <td>15.000000</td>\n",
       "      <td>1.000000</td>\n",
       "    </tr>\n",
       "    <tr>\n",
       "      <th>25%</th>\n",
       "      <td>50.750000</td>\n",
       "      <td>28.750000</td>\n",
       "      <td>41.500000</td>\n",
       "      <td>34.750000</td>\n",
       "    </tr>\n",
       "    <tr>\n",
       "      <th>50%</th>\n",
       "      <td>100.500000</td>\n",
       "      <td>36.000000</td>\n",
       "      <td>61.500000</td>\n",
       "      <td>50.000000</td>\n",
       "    </tr>\n",
       "    <tr>\n",
       "      <th>75%</th>\n",
       "      <td>150.250000</td>\n",
       "      <td>49.000000</td>\n",
       "      <td>78.000000</td>\n",
       "      <td>73.000000</td>\n",
       "    </tr>\n",
       "    <tr>\n",
       "      <th>max</th>\n",
       "      <td>200.000000</td>\n",
       "      <td>70.000000</td>\n",
       "      <td>137.000000</td>\n",
       "      <td>99.000000</td>\n",
       "    </tr>\n",
       "  </tbody>\n",
       "</table>\n",
       "</div>"
      ],
      "text/plain": [
       "       CustomerID         Age  Annual Income (k$)  Spending Score (1-100)\n",
       "count  200.000000  200.000000          200.000000              200.000000\n",
       "mean   100.500000   38.850000           60.560000               50.200000\n",
       "std     57.879185   13.969007           26.264721               25.823522\n",
       "min      1.000000   18.000000           15.000000                1.000000\n",
       "25%     50.750000   28.750000           41.500000               34.750000\n",
       "50%    100.500000   36.000000           61.500000               50.000000\n",
       "75%    150.250000   49.000000           78.000000               73.000000\n",
       "max    200.000000   70.000000          137.000000               99.000000"
      ]
     },
     "execution_count": 11,
     "metadata": {},
     "output_type": "execute_result"
    }
   ],
   "source": [
    "df.describe()"
   ]
  },
  {
   "cell_type": "markdown",
   "metadata": {
    "id": "EQj6WNZ-MYZt"
   },
   "source": [
    "### 7. Kmeans Clustering"
   ]
  },
  {
   "cell_type": "code",
   "execution_count": 12,
   "metadata": {
    "colab": {
     "base_uri": "https://localhost:8080/"
    },
    "id": "SOr4ijnyMdW5",
    "outputId": "b14e0213-28c1-4ffa-b34c-cf6f244d7c50"
   },
   "outputs": [
    {
     "data": {
      "text/plain": [
       "Index(['CustomerID', 'Gender', 'Age', 'Annual Income (k$)',\n",
       "       'Spending Score (1-100)'],\n",
       "      dtype='object')"
      ]
     },
     "execution_count": 12,
     "metadata": {},
     "output_type": "execute_result"
    }
   ],
   "source": [
    "df.columns"
   ]
  },
  {
   "cell_type": "code",
   "execution_count": 13,
   "metadata": {
    "colab": {
     "base_uri": "https://localhost:8080/",
     "height": 206
    },
    "id": "G06u8UUHtkLN",
    "outputId": "f906bfab-2b9f-4215-bc82-85e8b546bbd6"
   },
   "outputs": [
    {
     "data": {
      "text/html": [
       "<div>\n",
       "<style scoped>\n",
       "    .dataframe tbody tr th:only-of-type {\n",
       "        vertical-align: middle;\n",
       "    }\n",
       "\n",
       "    .dataframe tbody tr th {\n",
       "        vertical-align: top;\n",
       "    }\n",
       "\n",
       "    .dataframe thead th {\n",
       "        text-align: right;\n",
       "    }\n",
       "</style>\n",
       "<table border=\"1\" class=\"dataframe\">\n",
       "  <thead>\n",
       "    <tr style=\"text-align: right;\">\n",
       "      <th></th>\n",
       "      <th>Annual Income (k$)</th>\n",
       "      <th>Spending Score (1-100)</th>\n",
       "    </tr>\n",
       "  </thead>\n",
       "  <tbody>\n",
       "    <tr>\n",
       "      <th>0</th>\n",
       "      <td>15</td>\n",
       "      <td>39</td>\n",
       "    </tr>\n",
       "    <tr>\n",
       "      <th>1</th>\n",
       "      <td>15</td>\n",
       "      <td>81</td>\n",
       "    </tr>\n",
       "    <tr>\n",
       "      <th>2</th>\n",
       "      <td>16</td>\n",
       "      <td>6</td>\n",
       "    </tr>\n",
       "    <tr>\n",
       "      <th>3</th>\n",
       "      <td>16</td>\n",
       "      <td>77</td>\n",
       "    </tr>\n",
       "    <tr>\n",
       "      <th>4</th>\n",
       "      <td>17</td>\n",
       "      <td>40</td>\n",
       "    </tr>\n",
       "  </tbody>\n",
       "</table>\n",
       "</div>"
      ],
      "text/plain": [
       "   Annual Income (k$)  Spending Score (1-100)\n",
       "0                  15                      39\n",
       "1                  15                      81\n",
       "2                  16                       6\n",
       "3                  16                      77\n",
       "4                  17                      40"
      ]
     },
     "execution_count": 13,
     "metadata": {},
     "output_type": "execute_result"
    }
   ],
   "source": [
    "X = df[['Annual Income (k$)','Spending Score (1-100)']]\n",
    "X.head()"
   ]
  },
  {
   "cell_type": "code",
   "execution_count": 14,
   "metadata": {
    "colab": {
     "base_uri": "https://localhost:8080/"
    },
    "id": "8HWVNlVRtmeU",
    "outputId": "a2df8b80-03ac-4c2c-962e-da0d31ef31d5"
   },
   "outputs": [
    {
     "data": {
      "text/plain": [
       "KMeans()"
      ]
     },
     "execution_count": 14,
     "metadata": {},
     "output_type": "execute_result"
    }
   ],
   "source": [
    "from sklearn.cluster import KMeans\n",
    "\n",
    "k_means = KMeans()\n",
    "\n",
    "k_means.fit(X)\n",
    "#This fit method only train algorithum\n",
    "# try by default kMeans() swift + tab"
   ]
  },
  {
   "cell_type": "code",
   "execution_count": 15,
   "metadata": {
    "colab": {
     "base_uri": "https://localhost:8080/"
    },
    "id": "izMB6xmNvEVR",
    "outputId": "3e705fe8-200b-47be-f85f-5448e57205a2"
   },
   "outputs": [
    {
     "data": {
      "text/plain": [
       "array([4, 1, 4, 1, 4, 1, 4, 1, 4, 1, 4, 1, 4, 1, 4, 1, 4, 1, 4, 1, 4, 1,\n",
       "       4, 1, 4, 1, 4, 1, 4, 1, 4, 1, 4, 1, 4, 1, 4, 1, 4, 1, 4, 1, 4, 0,\n",
       "       4, 1, 0, 0, 0, 0, 0, 0, 0, 0, 0, 0, 0, 0, 0, 0, 0, 0, 0, 0, 0, 0,\n",
       "       0, 0, 0, 0, 0, 0, 0, 0, 0, 0, 0, 0, 0, 0, 0, 0, 0, 0, 0, 0, 0, 0,\n",
       "       0, 0, 0, 0, 0, 0, 0, 0, 0, 0, 0, 0, 0, 0, 0, 0, 0, 0, 0, 0, 0, 0,\n",
       "       0, 0, 0, 0, 0, 0, 0, 0, 0, 0, 0, 0, 0, 3, 2, 3, 0, 3, 2, 3, 2, 3,\n",
       "       0, 3, 2, 3, 2, 3, 2, 3, 2, 3, 0, 3, 2, 3, 2, 3, 2, 3, 2, 3, 2, 3,\n",
       "       2, 3, 2, 3, 2, 3, 2, 3, 2, 3, 2, 3, 2, 3, 2, 3, 2, 3, 2, 3, 2, 3,\n",
       "       2, 3, 2, 3, 2, 3, 2, 3, 2, 3, 2, 3, 2, 3, 2, 3, 2, 3, 2, 3, 2, 3,\n",
       "       2, 3])"
      ]
     },
     "execution_count": 15,
     "metadata": {},
     "output_type": "execute_result"
    }
   ],
   "source": [
    "# identify cluster\n",
    "#fit_predict method train algorithum and create dependent variable\n",
    "# by default no cluster 8 that's reason (output o to 7 means 8)\n",
    "# our cluster is divied in 8 group\n",
    "k_means = KMeans(n_clusters=5)\n",
    "k_means.fit_predict(X)"
   ]
  },
  {
   "cell_type": "markdown",
   "metadata": {
    "id": "FoEaw4MJxKee"
   },
   "source": [
    "### 8. Elbow Method To Find Optimal Number Of Clusters"
   ]
  },
  {
   "cell_type": "code",
   "execution_count": 16,
   "metadata": {
    "id": "3N8SMiA2xUzB"
   },
   "outputs": [
    {
     "name": "stderr",
     "output_type": "stream",
     "text": [
      "C:\\Users\\Suraj\\anaconda3\\lib\\site-packages\\sklearn\\cluster\\_kmeans.py:881: UserWarning: KMeans is known to have a memory leak on Windows with MKL, when there are less chunks than available threads. You can avoid it by setting the environment variable OMP_NUM_THREADS=1.\n",
      "  warnings.warn(\n"
     ]
    }
   ],
   "source": [
    "# wcss means Within-Cluster-Sum-of-Squares stored in python list\n",
    "wcss=[]\n",
    "\n",
    "for i in range(1,11):\n",
    "    k_means = KMeans(n_clusters=i)\n",
    "    k_means.fit(X)\n",
    "    wcss.append(k_means.inertia_)"
   ]
  },
  {
   "cell_type": "code",
   "execution_count": 17,
   "metadata": {
    "colab": {
     "base_uri": "https://localhost:8080/"
    },
    "id": "CXSqc9wyy4SR",
    "outputId": "fac923b7-b1e3-48e5-8f4c-ffe8ff4a6aef"
   },
   "outputs": [
    {
     "data": {
      "text/plain": [
       "[269981.28000000014,\n",
       " 181363.59595959607,\n",
       " 106348.37306211119,\n",
       " 73679.78903948837,\n",
       " 44448.45544793369,\n",
       " 37233.81451071002,\n",
       " 30259.657207285458,\n",
       " 25004.366909900535,\n",
       " 21898.331946797163,\n",
       " 19721.54752731274]"
      ]
     },
     "execution_count": 17,
     "metadata": {},
     "output_type": "execute_result"
    }
   ],
   "source": [
    "# calculated value within cluster sum of square\n",
    "\n",
    "wcss"
   ]
  },
  {
   "cell_type": "code",
   "execution_count": 18,
   "metadata": {
    "colab": {
     "base_uri": "https://localhost:8080/",
     "height": 295
    },
    "id": "SLs1ezPfzL9s",
    "outputId": "93d206f5-4b58-4fe2-c91b-2afc259182fb"
   },
   "outputs": [
    {
     "data": {
      "image/png": "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\n",
      "text/plain": [
       "<Figure size 432x288 with 1 Axes>"
      ]
     },
     "metadata": {
      "needs_background": "light"
     },
     "output_type": "display_data"
    }
   ],
   "source": [
    "# visulization our model\n",
    "# here optimal solution is 5 bcz after a 5 graph will bw decreasing\n",
    "plt.plot(range(1,11),wcss)\n",
    "plt.title(\"Elbow Method\")\n",
    "plt.xlabel(\"Number of Clusters\")\n",
    "plt.ylabel(\"WCSS\")\n",
    "plt.show()"
   ]
  },
  {
   "cell_type": "markdown",
   "metadata": {
    "id": "zgSxxebO1NXN"
   },
   "source": [
    "### 9. Model Training"
   ]
  },
  {
   "cell_type": "code",
   "execution_count": 19,
   "metadata": {
    "id": "yEopbWIU1Ufi"
   },
   "outputs": [],
   "source": [
    "X = df[['Annual Income (k$)','Spending Score (1-100)']]\n",
    "\n",
    "k_means = KMeans(n_clusters=5,random_state=42)\n",
    "y_means = k_means.fit_predict(X)\n"
   ]
  },
  {
   "cell_type": "code",
   "execution_count": 20,
   "metadata": {
    "colab": {
     "base_uri": "https://localhost:8080/"
    },
    "id": "Nk14yl4z1YnC",
    "outputId": "e98da809-2fd9-42e5-c9fe-1afdeccba01e"
   },
   "outputs": [
    {
     "data": {
      "text/plain": [
       "array([2, 3, 2, 3, 2, 3, 2, 3, 2, 3, 2, 3, 2, 3, 2, 3, 2, 3, 2, 3, 2, 3,\n",
       "       2, 3, 2, 3, 2, 3, 2, 3, 2, 3, 2, 3, 2, 3, 2, 3, 2, 3, 2, 3, 2, 0,\n",
       "       2, 3, 0, 0, 0, 0, 0, 0, 0, 0, 0, 0, 0, 0, 0, 0, 0, 0, 0, 0, 0, 0,\n",
       "       0, 0, 0, 0, 0, 0, 0, 0, 0, 0, 0, 0, 0, 0, 0, 0, 0, 0, 0, 0, 0, 0,\n",
       "       0, 0, 0, 0, 0, 0, 0, 0, 0, 0, 0, 0, 0, 0, 0, 0, 0, 0, 0, 0, 0, 0,\n",
       "       0, 0, 0, 0, 0, 0, 0, 0, 0, 0, 0, 0, 0, 4, 1, 4, 0, 4, 1, 4, 1, 4,\n",
       "       0, 4, 1, 4, 1, 4, 1, 4, 1, 4, 0, 4, 1, 4, 1, 4, 1, 4, 1, 4, 1, 4,\n",
       "       1, 4, 1, 4, 1, 4, 1, 4, 1, 4, 1, 4, 1, 4, 1, 4, 1, 4, 1, 4, 1, 4,\n",
       "       1, 4, 1, 4, 1, 4, 1, 4, 1, 4, 1, 4, 1, 4, 1, 4, 1, 4, 1, 4, 1, 4,\n",
       "       1, 4])"
      ]
     },
     "execution_count": 20,
     "metadata": {},
     "output_type": "execute_result"
    }
   ],
   "source": [
    "# Now Our Customer divied or segmented into 5 cluster( e.g 0 to 4)\n",
    "y_means"
   ]
  },
  {
   "cell_type": "code",
   "execution_count": 21,
   "metadata": {
    "colab": {
     "base_uri": "https://localhost:8080/",
     "height": 295
    },
    "id": "23SVAEdF2TUr",
    "outputId": "d5c8032c-f915-468a-ffa3-56ea7f94c0fe"
   },
   "outputs": [
    {
     "data": {
      "image/png": "iVBORw0KGgoAAAANSUhEUgAAAYcAAAEWCAYAAACNJFuYAAAAOXRFWHRTb2Z0d2FyZQBNYXRwbG90bGliIHZlcnNpb24zLjMuNCwgaHR0cHM6Ly9tYXRwbG90bGliLm9yZy8QVMy6AAAACXBIWXMAAAsTAAALEwEAmpwYAABJ50lEQVR4nO2de3wcZb3wv78kS0uarlIuykUsjQWhJS20KhwP0E9RMOUiYhCEIKCYlwZBsLyK+nqpnqNytKKegopBqC3CkQgC2ii85XKOryi0NYRybZZWablTiSmBdpv83j9mtp3s9ZnZ2d2Z5Pl+PvPZ7MwzM8+z2Z3f83t+N1FVLBaLxWLxUlfrDlgsFosleljhYLFYLJYcrHCwWCwWSw5WOFgsFoslByscLBaLxZKDFQ4Wi8ViycEKB4vF4hsROUZEnqp1PyyVwwoHS2BE5GwRWS0iW0XkeRHpEZF/LfOaXxeRFWH1MWxE5K0i8nMReUFEBkXkaRH5Qq375QcRmScim3yeoyLyrsx7Vf0fVT0k/N5ZooIVDpZAiMjngB8A3wLeBhwIXAt8uIbdChURaciz+2qgCTgUeAtwKpCqZr8slqqgqnazm68N56G4FTijSJsbgX/zvJ8HbPK8/wKwGRgEngKOBz4EbAfS7vUfcdvuB9wJbAH6gU97rvN14FZghXutR4GDgS8CLwHPAidk9f164Hn3/v8G1LvHzgf+H44A2OLtv+f8dcBpRcb9buAe9/yngI95ju0J3AX8E3jYvfcfPccV6ATWu2P5JtAMPOie8ytgN0/7k4Fe4DXgT0CL59hG4AqgDxgA/guYCEwC3gBG3M94q/v5vte9z2vuZ7M0cy/gv92+ve62PzPP//NQ4H73/MeAU7O+C9cAv3PH9RegudbfY7uV+J3XugN2i9/mPsR3AA1F2txIAeEAHOI+tPdz30/NPCzch/2KrGs9gKOVTARmAy8Dx3vavwmcCDQAvwA2AF8GEsCngQ2ea/0G+Kn7kNwHeAj4X+6x891xXeJea/c84+pyH34XANOzjk1yx3WBe/6RwCvADPf4Le7WCBzmts0WDncCSWAGsA1YBUzDEWqPA+e5bY/EEX7vA+qB83AEwgT3+EZ3bPsBU4AngIuy/xeee88BjnL7PdVtf1lW395V4P+ZwBHaXwJ2A+bjCIFDPN+FLTgCqAG4Cbil1t9juxXf7LKSJQh7Aq+o6o6A5w8DE4DDRCShqhtVNe/SjIi8A/hX4Auq+qaq9uI8oM/1NPsfVf2D259bgb2B76hqGudhPNW1FbwNaMV56L2uqi/haAlnea71nKr+p6ruUNU38nTpEpyH22eAx0WkX0Ra3WMnAxtV9Qb3/LXAr4E2EakHPgp8TVWHVPVxYFme61+lqv9U1cdwtJS7VfUZVR0AeoAj3HafBn6qqn9R1WFVXYYjTI7yXOtHqvqcqm7B0Vhm5/uMAVR1jar+2e33RhwBelyh9lkchbPU9h1V3a6q9wK/BT7uaXObqj7k/o9uKtYXSzSwwsEShFeBvQqsyZdEVfuBy3Bm/S+JyC0isl+B5vsBW1R10LPvb8D+nvcvev5+A0dwDXveg/PweifOLPd5EXlNRF7DeQju4zn/2RJ9f0NVv6Wqc3CE5K+AW0Vkinv992Wu7V7/HODtOAKrIev6+e6VPZbs903u3+8EFmXd6x04n1eGFzx/D3nOzUFEDhaR37qG9n/i2JL2KtQ+i/2AZ1V1xLMv+39k3BdLNLDCwRKEB3GWck4r0uZ1nOWTDG/3HlTVX6rqv+I85BS4KnMo6zrPAVNEZLJn34E49gK/PIszu95LVd/qbklVneHtmunFVDXzEJ0EHORe/wHPtd+qqk2quhBnKWwHcIDnEu8IMAbvWP49616NqnqzSdfz7Psx8CTOUlkSZ4lIDPvyHPAOEfE+T4L+jywRwQoHi2/cJY6vAteIyGki0igiCRFpFZH/cJv1AgtEZIqIvB1HUwBARA4RkfkiMgFHyLyBs9QEzkx5auZBo6rP4hhbvy0iE0WkBfgUztKE334/D9wNLBGRpIjUiUiziJgunyAiXxGR94jIbiIyEfgsjhH2KZyllINF5Fz380i4bQ91NZnbgK+7n9e7gU/4HYOHnwEXicj7xGGSiJyUJUQL8SKwp4i8xbNvMo7Re6vbt4V5zplW4Hp/wZkMfN4d8zzgFJwlPUtMscLBEghV/T7wOeD/4MyKn8VZh/+N22Q58AiOYfRuHG+ZDBOA7+AYa1/AWdb5knvsVvf1VRFZ6/79cRwj6XPA7Tjr9vcE7PoncIymjwP/ALqBfX2cr8ANbt+fAz4InKSqW92lrxNwbBjP4YztKpzxgvP5vMXdvxy4GUeT8Y2qrsaxOyx1x9GPY1A3OfdJ997PuEtS++F4Np2NY0j+GaP/X+AsAS5z238s63rbcVx6W3E+l2uBT7j3scQUUbXFfiyWWiAiVwFvV9Xzat0XiyUbqzlYLFVCRN4tIi3uMtB7cZbHbq91vyyWfATyNrFYLIGYjLOcsx9OjMIS4I6a9shiKYBdVrJYLBZLDnZZyWKxWCw5xHpZaa+99tKpU6fWuhsWi8USK9asWfOKqu5drE2shcPUqVNZvXp1rbthsVgssUJE/laqjV1WslgsFksOVjhYLBaLJQcrHCwWi8WSQ8WEg1tK8SURWefZN0VE7hGR9e7rHp5jX3TTHz8lIidWql+mpFLQ2QnJJNTVOa+dnc5+i8ViGetUUnO4EacojJcrgVWqOh2niMmVACJyGE4+mhnuOde6+e9rQk8PtLRAVxcMDoKq89rV5ezv6alVzywWi6U6VEw4qOp/41R/8vJhdhU4WcaulM8fxqkMtU1VN+AkEXtvpfpWjFQK2tpgaAjS6dHH0mlnf1vbLg3CahgWi2UsUm2bw9vctMmZ9MmZIiv7M7rwySZGFwrZiYh0iMhqEVn98ssvh97BJUtyhUI26TRcfbXVMCwWy9glKgbpfEVF8ub1UNXrVHWuqs7de++iMRyBWLHCTDgsW+ZPw7CML1KpFJ2dnSSTSerq6kgmk3R2dpIaA1+IsTw2yy6qLRxeFJF9AdzXl9z9mxhdFesAnHz4VWfrVvN2phqGZXzR09NDS0sLXV1dDA4OoqoMDg7S1dVFS0sLPTFWKcfy2CyjqbZwuBPI5K4/j10ZKe8EzhKRCSJyEDAdeKjKfQOgyUdlWxPhsHx5ef2xxItUKkVbWxtDQ0Oks74g6XSaoaEh2traYjnLHstjs+RSSVfWm3FqDR8iIptE5FM41b8+KCLrcSpofQdAVR/DKdT+OPB74GJPgfiq0t4OiUTxNqWOezHVRCxjgyVLluQ8OLNJp9NcHUOVciyPzZIHVY3tNmfOHA2b/n7VxkZVx7ycf2tsVJ00qXibzJZMht5FS5Xo7+/XhQsX6uTJk1VEdPLkybpw4ULt7+8veM7kyZMVx15WdEuW8cUI0q8wqMbYLNUBWK0lnq81f8CXs1VCOKiqrlzpCIBEYvSDPpFw9q9cqbpwYe7x7C2RUL344op00VJhVq5cqY2NjZpIJEY9+BKJhDY2NurKlSvzniciRg/Qurq6qvYrDCo9Nkv1sMLBJ/39zkN/8uRdD/dEQlXE0QAuvthpk2lromFUeDJnqQD9/f3a2NhY9AHY2NiYd6Zeydl1Of0KA6s5jB1MhENUXFlrTnbMAuwyOO++O9xyCyxdCs3Nzr7mZujuhsbGXBtEIuHs7+7e1d4SH8pZW29vbydRwiiVSCQ499xzq9qvMKjk2CwRpJT0iPIWluZQjhbQ3+9oFMmkal1droZhiR9+Z8heG4DJed7ZvR/7Qa1n7rXWXCzhgV1WMsPaDyxe/KytF7IB5Nuy7QJ+7QdRWPOvpc3DEh5WOBiSsTGU2mqxlOq1g4g4rwsXFtdMgpxj2YXpDL2pqankTBpQEdFkMqkXX3zxKI3B7yzcT78qSX9/v1588cWaTCa1rq4uZ2yW6GOFgyEiZsKh2k4YJl5TYZxjGc3ChQtLagKJREJnzpxp1O7iPCqn6T2855qcA2hDQ4OdwVuKYoWDIVHUHILYQawHVXCC2A0mTZpk1DafDSCI/cBE2yikdYxVahXzEXescDAkijaHIH2K4jjiQFC7QTk2gKDnrly5Uuvr6436mU9jGUtY+0dwrHAwJIoz7iDaTBQ1oKhjOhvPZzfwYwPInt2aCKJCWkc5Got33HGecVvPqfKwwsEHUVurD2IHiartJMoEWfv3c259fb02NDTktDPRHArdt1yvpbEw4y7n/2axwsE3UYpZsJpDdSgndsCPDSDIVoko7LEy4651zEfcMREONkLaQ3OzEwU9MADDw86rNyq6mphmh/UGowY5Z7yz1TBtbr52zc3NdHd309jYmBM5nEgkqK+vp66u9E9MZHStq0QiQWNjI93d3TTn+fKVE6lc6yjrsCjn/2YxpJT0iPJWqcR7UcB6K1WHcqKhM2v1Z599tp5zzjk5fv+777670bUbGhp8xQzUKvdTlOwUVnMoD+yyUryxcQ6Vx8/atd+1epOHV2bzS7WzxkbNTmFtDuVhhUOEMY1iDmIHiZLtJOqYzsJXrVpl3M5PvERQ4ZDpu99I5UrFV1TbThHFPsUJKxwiip3dRwuTWXE5nkmVEg5BqFRkdi1m6VHTZuKEFQ4RxNoFokmpWbhfTaDawsHUHuB3xt3f319WTEalsXmegmGFQwSxUczxxHStvhbCwe8M2rR9pp3pGGwFuPhghUMEsbEI8aSSmkM5WVSDrr2XmnEHieHI1hyi5N1kGY0VDhHERjHHE9OMqH63+vr6stbqK2UP8Dve7HtYe0C0MREO4rSLJ3PnztXVq1fXuhu+SCZ3lSEt1W5goPL9sZiRSqVoaWlhaGgo1Os2NjbS19eXN9jNhGQyyaDBFyqZTDLg4wtlet0M3nGYfFbljttSHiKyRlXnFmtjI6SrjI1ijicm0dD19fXG1ysVBW1KpSKF/bTPHsdYicIe71jhUGUWLTITDpdfXp3+WMxpbW2lr6+Pjo4OkskkdXV1JJNJOjo6uPvuu5kwYULJa4jIznP6+vpobW0tq09NTU2htvPbPpFI5IxjxYoVRsJh+fLlvvpkqTKl1p2ivMXR5qBq4xzGKqXW2a+//vrQDbS1tDlUKmuspTBhGfmxBunoYqOYxyaFvICuv/76cA20/aq6UHV40rAOM6yv8ZouZalOY5qRt5LJOGqRv8lSmDCN/FY4RBDTtBmWsUPoqR5WqmqjqiZ01C9iG9t0K1v1Q3woFM+goA+jqEZUx5mwv0NWOEQMu5w0Pgn1YdmvjmAo8svYylad1TQrlEjhIBHINu9R+IQtcK1wyEOtZu5B02ZYTSP+hLrMslBzNIacLaGqNZ6U2ziHcAl7qc4KhyxqOXMPkjbDahpjg1ANtJPV7NcRgeV8m/coPMI28psIh3ETBJdKQUsLFIthamyEvr7KVH7zG/xW6/5awiPUQLU6nMdAKeqAYZPeWeJA2MGOkQ2CE5HLReQxEVknIjeLyEQRmSIi94jIevd1jzDvuWQJlHC9Jp2G0OJyUkAnkATqYNMgLAWmlTgtE3tU9f5aKkY5ZT1zMA1X8BfWYIk4oX6HTCmlWoS9AfsDG4Dd3fe/As4H/gO40t13JXBVqWv5WVYKmvAu0Jp/QW8S1a2ofsjg/jZB39ghVANtTGwOcSIOCQLHhbeSKxyeBaYADcBvgROAp4B93Tb7Ak+VupYf4RAk4V2gNX8jbxLVaXnu7bU52AR9Y4vQDLQG3y9tdNtZShInw/m4iHMAPgtsBV4GbnL3vZbV5h+lrlNJzSFwUR6Dmd02VP+zxPWs5jB2yMxMJ02aNOpH3dTUFMxAW0Az1YS7PzrPs0gTR5fbsIz8kRQOwB7AvcDeQAL4DdBuKhyADmA1sPrAAw80/jD8egsFLspj6E3yWtZ1sjURWxRobFCxmWm/OktHSVWtc18vVqsx+GA8B+tFVTicAVzvef8J4NpKLyuZaAL19aqrVjntA8/cxeyTGKZ42gxbTrR2hLUGHceZ6XhiPKf5MBEOtfBW+jtwlIg0iogAxwNPAHcC57ltzgPuCPOmzc3Q3e24fxbLrHzKKdDTs8trqBQ57Qy9ROqSMDzsuK0uXZrrjurtb7aTQiLh7O/utm6sYdPT00NLSwtdXV0MDg6iqgwODtLV1UVLSws9PT3G17Kpq6NNpdKdjxlKSY9KbMBi4ElgHbAcmADsCawC1ruvU0pdJ0iE9KpVqg0NpTUCkzagmlPhMWRvEpugr3qEPdMfzzPTODCe/z9EVHNAVb+mqu9W1Zmqeq6qblPVV1X1eFWd7r5uqcS9u7tBpHS7HTvMrjd1ataORTiWlGIkAMN6Dc3NjmYxMFBc07CUT9gzfTszjTY1iR2IEeOu2M+KFaWDy/ywcWPWjmagG2gkV0gk3P3dbrsQSaWgs9OJsK6rc147O539FjNMi9TccMMNRtdrbGwMrV0qlaKzs3NUkaFzzjmH9vb2Ufs6OztJ2X+6EYsWLTISDpeP18pbpVSLKG9BlpVM4wdMt4JxBlX0JrE5mMLBNH8NoIsXLy55vRkzZhhda+bMmUWvU8jjKd8WRf/8KBOnOIcwIYreSmFuQYSDqReS6Vbr5Ujr1RQepmvQmW1VxrUtD/39/drQ0GB0naYcw9Xo65Syg+TbrBeUOeXEDsQhujofVjjkwSR+wHSLQpyBjYcIDxO/d5MZf2Y2anqdYpk0/fbJO/Mdi/75USLOWocVDnkwmWmbbt4ZeSYH06RJo9tMmlQ6F5Np/qZ87UwFXa01nDgQZJaePVMMco1i3jB+tRnT61rKI+4xLFY4FCCzRm9qf8hul72Wn7lefX3+8+vrC6/9m9oLCrUz3WwOJjNWrlwZaJaemSn6nenX19cXneH7sYP40Ugs5RH36GorHIrQ36/a3u7/IdvUNDrOwI8mkr32b2ovWLWqfG3HTiLNCfowBoztDN6tmO3Cag7RJO4xEibCYdy5smZobobly2HlyvxRyPlIJGBkBE46aVecgUndhQzZ9RdMazZ89rPlud8mEjBOXbUDMWPGjMDn7jANkHGpr6/ntttuK3jcxBc/H+PZP78ajIsYllLSI8pbOZqDF28UsslSU5Dsqflm8GF7TplqLJbirFq1qiztwe9WbHZpvZWiidUcxgneKOSLLiqtRXg1AL8TA2/7Sk8qbA6mYMyfP5/FixdX7X7FZpfNzc10d3fT2NhopEEkEgkaGxvp7u6m2f7TK8a4iK4uJT2ivIWlOXjxm401SppDImFzMIXJqlWrdPr06TXVHDLk88Vvb2/Xc845p+zc/hb/WG+liG+VEA5+K7D5iZvIjjcwjVGYOdPGMtSKoHEGpluUPVosxbFxDhHeoqA5RMVbydoVKkM53kImnkthzS6jGKkbxT6FTViV2aqNFQ4BCBJxXMs4B5s/qbIEjTPIaATVmF1GcQYbxT5ZdmGFQwCC5irKeDw1NY1umx0XUeieJjUbbG2H6hNUc/BqBJWcXUZl7durJfj9fCzVxwqHgNhZuiWDX5tDtWfGUYjU9ZM11tpaooGJcBCnXTyZO3eurl69uiLXTqUcd9Xlyx2X06YmJ5Ds8sutW+h4IpVK0dLSwtDQUNF2IsLkyZM599xzufzyy6vmRppMJhkcHDRqNzAwEPr9TT+foH1Kp9Ns2rSJN998M2gXxzUTJ07kgAMOyHG7FZE1qjq32LlWOFgsJejp6aGtrY10Oj2qGFAikSCRSNDd3U1ra2tN+lZXV4fJb7iuro7h4eHQ79/Z2UlXV1fJIklB+7RhwwYmT57MnnvuiZiUcLTsRFV59dVXGRwc5KCDDhp1zEQ4GAXBicg7ReQD7t+7i8jkwD2OMbba2viktbWVvr4+Ojo6RlVd6+jooK+vr2aCAaCpqSnUdn4xqZ5XCJM+vfnmm1YwBERE2HPPPQNrXSWFg4h8Gqew5U/dXQcAvwl0txjT0wMtLdDVBYODjhVicNB539LiHLeMXZqbm1m6dCkDAwMMDw8zMDDA0qVLax6FXOtI3aC5g/z0yQqG4JTz2ZloDhcD7wf+CaCq64F9At8xhqRS0NYGQ0O5CfDSaWd/W1v0NAir6Yx9al0HOahGUpE+2S98qJgIh22quj3zRkQacDwOxg2m2VO9GVdrjdV0xgfFci9VI8+S36yxFetTBb/wL7zwAmeddRbNzc0cdthhLFiwgKeffpqNGzcyc+bMQNe88cYbee655wL3CeDJJ5/k6KOPZsKECXzve98r61r5MBEOD4jIl4DdReSDwK3AXaH3JMKsWGEmHJYvr05/ShFXTccSjFraREw0F3CWNyrWpwp+4VWVj3zkI8ybN49UKsXjjz/Ot771LV588cWyuhxEOGSng58yZQo/+tGPuOKKK8rqS0FK+boCAnwaRyh0u39LqfOqsVUqziEbv/mWao2tK22pJpWMhn788cdLN6rgF37VqlV6zDHH5D22YcMGnTFjhqqq3nDDDaPiNk466SS97777dMeOHXreeefpjBkzdObMmfr9739fb731Vp00aZIefPDBOmvWLB0aGtLVq1frscceq0ceeaSecMIJ+txzz6mq6nHHHadf/OIX9dhjj9Xvfe97efvxta99Tb/73e8WHEO+z5ByU3aLSB3wqKr+TFXPUNU29+9xtaxkuqxaIYcQ38RN07EEI5VK0dnZOUpb6OzsJFVllbDm3lwV/MKvW7eOOXPmBOwY9Pb2snnzZtatW8ejjz7KBRdcQFtbG3PnzuWmm26it7eXhoYGLrnkErq7u1mzZg2f/OQn+fKXv7zzGq+99hoPPPAAixYtCtyPIDQUO6iqIyLyiIgcqKp/r1anokZ7u7N0Wez7F6Vqa6YOJHEuUjXeyRd7MTg4SFdXF8uWLat67EXGm2vp0qVVu+dOIvyFnzZtGs888wyXXHIJJ510EieccEJOm6eeeop169bxwQ9+EIDh4WH23XffncfPPPPMqvXXi4nNYV/gMRFZJSJ3ZrZKdyxKLFpUugBQIuFET0eBuGk6Fn+kUina2toYGhrKiTFIp9MMDQ3R1tZWdQ2iZlTwCz9jxgzWrFlTsl1DQwMjIyM732diC/bYYw8eeeQR5s2bxzXXXMOFF16Yc66qMmPGDHp7e+nt7eXRRx/l7rvv3nl80qRJvvsdBibCYTFwMvANYIlnGzc0NzvV1PLVmo5itbX2djNhFhVNx+KPJUuWlAw8S6fTXB0l97lKUsEv/Pz589m2bRs/+9nPdu57+OGHeeCBB0a1mzp1Kr29vYyMjPDss8/y0EMPAfDKK68wMjLCRz/6Ub75zW+ydu1aACZPnrwz7ckhhxzCyy+/zIMPPgg4/7vHHnvMd19Dp5RRwjUvvA1HQJwM7GNyTjW2ahmkM4SRFbW/37GfTZ7sGLonT3beh5mgMmhmWUs8iHv9Yj8YGaQr/IXfvHmznnHGGTpt2jQ97LDDdMGCBfr000+PMkiPjIzo2WefrYcddph+7GMf0+OOO07vu+8+7e3t1SOOOEJnzZqls2bN2mmc7+7uHmWQ/utf/6rHHHOMtrS06GGHHabXXXedqjoG6Ycffjhvv55//nndf//9dfLkyfqWt7xF999/fx0YGDD6DAkjKyvwMeBvwDLgF8AGoK3UedXYqi0cyqWa2V5XLn5IG9mqCbaNvhfbtJGtunLxQ+HdzFJVTGtM1EXFfa4MjISDqk2lXISKeCu5fBl4j6qep6qfAN4LfKU8fWX8UdXYg1SK1qvm0UcLHVxHkgHqGCbJAB1cRx8ttF41D+6914kgbWoCkV1bU1M0IkttxGteap1PKZK0tkJfH3R0jP6+dHQ4+2uY/yq2lJIeOK6s3vd12ftqtcVJc6hq7IHJzerrVRsagpWvqwZ2JliQKNRwqBbGmoOlIJXUHH4vIn8QkfNF5Hzgd0BZyRdE5K0i0i0iT4rIEyJytIhMEZF7RGS9+7pHOfeIGlWNPTC52fAw7NjhvBY6nq3OeGfyIs7szKtxzJzpaCPl4lfNKqZhjEHto9b5lCzjhFLSwxEynA58H7ga+IjJOSWutwy40P17N+CtwH8AV7r7rgSuKnWdOGkOVY2yNr2ZyZZRZwrN5PNtixeX138/alYxDWPCBGcbg9rHeKnRbDWH8qmkQfogYKLn/e7A1FLnFbleEseoLVn7nwL2df/eF3iq1LXiJBwmTzZ7FofiYGJ6M9Otqam0N0j2tmpVsL7395sJoKD98m5eD5ZquJGFTCVrU0cFKxzKp5LCYTWwm+f9bsDDpc4rcr3ZwEPAjcBfgS5gEvBaVrt/FDi/w+3T6gMPPDC8T7DCRM7mEESD8NN+5kz//c5oAZXsV74P3No3Ios/4dCvqgtVdbKqivu60N0/fqmkcOjNs++RUucVud5cYAfwPvf9D4FvmgoH7xYnzaGqsQcmN6vGVqx/2bP0s89W3X332ve5ov8Yi1/MhcNKVW1U1YSOfkwk3P3BBfzzzz+vZ555pk6bNk0PPfRQbW1t1aeeempUnINfbrjhBt28eXPgPqmqrlixQg8//HA9/PDD9eijj9be3t687SppkH5ZRE7NvBGRDwOvGJxXiE3AJlX9i/u+GzgSeFFE9nXvsS/wUhn3iBxVjbIudbP6emczwUeufiMK5d2/+WZ44w3z64Tdr2JErViHJYsU0AYMAdmOGGl3f5vbzh+q0U3ZfdBBB/HAAw/Q19fHV77yFTo6OsrqUw6lpAfQDPwZ+DvwLPAn4F2lzitxzf8BDnH//jrwXXfzGqT/o9R14qQ5ZAgjyrrsm61aZa5ZNDYG10Ky1+3D1GgaG1UnTaqe9jAGoo3jiJnmsFBzNYbsLaGqYzNlt6rqli1bdL/99st7rGLLSjsbQhMw2bR9iWvNxrEb9OHUo94D2BNYBax3X6eUuk4chUNkyKyzl4pzWLy4cBuTzbtuH5YtxHu9cvrmZxsD0cZxxEw4mD6W/Av4H/7wh3rZZZflPWYiHFavXq0f+MAHdu7/xz/+oaqj02Js375djz76aH3ppZdUVfWWW27RCy64YGe7hQsXluznd7/7Xf3Upz6V91hQ4VAwZbeInAL0qerf3F2fAz4qIn8DPquqG8rQVnpxbA/ZHB/0mpYSpFJOvdMVK5zUxU1NcNppTnzCHXeMTmfc1ATnnQennw6nnFI4FsKEdNrZ2tqce5WKvzBBBO66C/7lX+DHPy7/eiaMp2jj2GGaintspuy+7777uP766/njH/8Yat+L1XP4d+AoABE5GWgHPg4cAfwEODHUnlgqR0+P83DOPKjBWee/9VZn7b67O396gc5O2LYtnD54710ur7/u2Cyuu84RFI42WhiTNsWwKWwjThMwaNjOHzNmzKC7u7tku1Ipu//whz9wzTXX8Ktf/Yqf//zno85VdVJ2Z7KyZlMsZXdfXx8XXnghPT097LnnniZDMqaYQVpVdcj9+3TgelVdo6pdwN6h9sJSOUyijU8/3Ul7nB1FfOON5WkN2fcKk3Ta6ZvJQz8zpqBEqViHJQ/tQCkHhQQwtlJ2//3vf+f0009n+fLlHHzwwb7HVopimoOISBOOqf944FrPsYmh98RSGZYsKf1gfvNN+OUvdz1oBwdLl76LE8PDcMstsGCBv/MSiV2aVVSKdVjysAgn6UKx72sC8C/gRYTbb7+dyy67jO985ztMnDiRqVOn8oMf/GBUu/e///0cdNBBHH744cycOZMjjzwSgM2bN3PBBRfs1Cq+/e1vA3D++edz0UUXsfvuu/Pggw/S3d3NpZdeysDAADt27OCyyy5jxowZRfv2jW98g1dffZXOzk7A0V5Wr17te4wFx64FZl4i8kngS8A/gZdU9UPu/iOA76lqze0Dc+fO1TA/jDFJMuk87Mc7jY3O69BQ8XYZkklnKenyy61gqCFPPPEEhx56qEHLHhx31TSjhUTC3bqB8ZmZNd9nKCJrVDWf3XcnBZeVVPXnwHHApwDvlOsF4ILgXbVUlagUiq5mXEI+0mmYNq10fEd9PVx8MQwMwNKlVjDEhlYc58cOnAw9de5rh7t/fAqGcii2rISqbgY2Z+17vqI9soRLU1M0NIdEorbLVOk0bNwIEyYU1x4mTLD2hdjSDCx1N0u5mERIW+KMSX3dSiKyK/y71gwNxasYuMVSQ6xwGOssWlRb4XD22dGpxNXYaCuGWSyGFF1WAhCRKXl2D6rqGHFlGeNk8ixlxzmYUlcHHv9tI+rrneWZQvETtWLqVOe1udmxJyy1yw8WSyFMNIe1wMvA0zipLV4GNojIWhGZU8nOWUIie7bsB7+CIcNdd5UnGLyz+vZ2aCg5jynNunVjohKcJT+pLSk6f9dJ8ttJ6hbXkfx2ks7fdZLaYv/XQTAqEwosUNW9VHVPHLP/r4BORsc+WKJMZrY8MODYASrNbbcZNpyGY0B8DRh2X5fC2gEnPmFgwKmdGlYwXiaGo6XFiRy3jAl61vfQ8pMWutZ2Mbh9EEUZ3D5I19ouWn7SQs/64P/rF154gbPOOovm5mYOO+wwFixYwNNPP83GjRuZOXNmoGsGycqazR133EFLSwuzZ89m7ty5oafPMBEOc1X1D5k3qno3cKyq/hmYEGpvLNWh0nmChofhmmsMZukfwnEz/DTwFpyv41uc9y2MrlSeiVMIg3x1qC2xJbUlRdutbQylh0iPjF42TY+kGUoP0XZrWyANQjW6KbuPP/54HnnkEXp7e/n5z3/OhRdeWFafsjERDltE5Asi8k53+zzwDxGpBwKuOVhqSrU8mIrO0qfhBCZNwiku6GW33BT8GXtBmNg6DWOCJQ8uIT1c3JaWHk5z9Z/9/6/vu+8+EokEF1100c59s2fP5phjjhnV7sYbb+Qzn/nMzvcnn3wy999/P8PDw5x//vnMnDmTww8/nKuvvpru7m5Wr17NOeecw+zZs3njjTdYs2YNxx13HHPmzOHEE0/k+eediIF58+bxpS99ieOOO44f/vCHo+7Z1NSEuKsAr7/++s6/w8JEOJwNHICTWvsO4EB3Xz3wsVB7Y6kO1fRg8s7SR83+P0fJfDhpIPN73hA4CXDxvi1fHv51LVVlRd+KHI0hm/RImuV9/v/X69atY86c4KbV3t5eNm/ezLp163j00Ue54IILaGtrY+7cudx000309vbS0NDAJZdcQnd3N2vWrOGTn/wkX/7yl3de47XXXuOBBx5g0aJFOde//fbbefe7381JJ52Uk9CvXEoKB1V9RVUvUdUjVHW2qn5GVV9W1e2q2h9qbyzVoViluEqRiVCuy3zl2snVGLLPATK/Z9O0F36JSgS5JTBbt5v9D03bhYk3Zffvf/97knkcQrwpu2fPns2//du/sWnTpp3Hi6Xs/shHPsKTTz7Jb37zG77yla+E2ncTV9aDgSuAqd72qjo/1J5YKkuxeg533QX//Gdl759OwzPPeLyfJpudV+nfc5i2DEtNaNqticHtpbMANO029lJ2Zzj22GNJpVK88sor7LXXXiXbm2CyrHQr8Ffg/wD/27NZ4kKhus233gq33+5kLF24sPJaxNCQR3MwTOlR6Ro7lbBlWKpKe0s7ibri391EXYJzW8ZWyu7+/v5MZU3Wrl3L9u3bQ63pYOI8vkNVq1RuyxI63noO2XirtN11FyxbVvn8RztnVytwvJSKLC01KLzjAUieWrn+bNxYuWtbqsKioxex7JFlRe0OifoElx81tlJ2//rXv+YXv/gFiUSC3Xffnf/6r/8K1ShdMGX3zgYiXwdeAm4HdpYFU9UtofUiIDZltwGdnaVrMyQSToDcPvvA175WmX7kJN6bhuPGWkxlfh0a5sCOpyrTJ3A0mbBiKCyhY5qyu2d9D223tpEeTo8SEom6BIn6BN1ndNM6PULR+lUkaMpuE83hPPfVu5SkOL9uS9RZsaK0NpBOw09/Cll+1KGSIxyewfFV7cbxWvJqENtxrNFtlRUMYGtDjxFap7fSd1EfV//5apb3LWfr9q007dbEuS3ncvlRl9M8xSZT9EtJ4aCqB1WjI5YKYeqNUynB4K2mllOJ7fc40W6X45RwbMKxQC+HhqWVFwy2NvSYonlKM0sXLGXpApszKwwKCgcRma+q94rI6fmOq6ppfgRLLallPQejamrPAJe4m4cKKjE7sbWhLZaCFNMcjgPuBU7Jc0wBKxziQHt79etB19fDRRdFP+uprd1gsRSkoHBQ1a+5r7YkaJxZtKg6XkheClVTa2ysXDCbX+rr4cwzd8V8tLc7n5UVFhYLUCTOQUQ+V2yrZictZVDNaOhS1dQOMjRfTZnir69B3PeGh0fHfNhMrbEnlXKc87zZ3m129uAUC4Kb7G5zgYXA/u52EXBY5btmCY3WVscbabJhVHJQ0uldEdf5fpGmMQVvvulPOJRwxzbCZmqNNYXiPMOQ+VFN2Z3h4Ycfpr6+3iiS2w8FhYOqLlbVxcBewJGqukhVFwFzcBLxWeLCN77hGIa3hBiakkg4y0cTJox+kL/+euFfpOmS0ptvVj/3UwabqTV2eOM8s1dPy5X5UU7ZDTA8PMwXvvAFTjzxxLL6kw+T9BkH4jieZ9iOk2fJEgfuvbf8wLZTT4Vzzhmtr595pvP3tm3mv0jTPEbZtZ6rGYtgM7XGjiVLzEJ5gsj8KKfsBvjP//xPPvrRj7LPPvv4H1wJTITDcuAhEfm6iHwN+Avwi9B7YqkMl15a3vmLF8MddzjBdAOe6myTJ5eOjcj+RZrmMfLWej7pJCflRjWq12WwmVpjhWmcZxCZH+WU3Zs3b+b2228fJbjCxCRl978DnwT+gVPD8QJV/VZFelMjxnTtWYMEXkW56qr8+niQX+Qzz5jdM9POu14Qhl3BlHI0FWsVrTqmsrwWMr+SKbsvu+wyrrrqKurr6yvSd9Oq7b3A85n2InKgqv69Ij2qMvlysmRqzy57ZNm4zskC7Jr9Z8csBPlFvvGG2TkZ24TJekHY1NcHj5ru6XGEWSahIeyyii5b5thRWsfxd6lCmMZ5BpH5UU7ZvXr1as466yzAyf66cuVKGhoaOO2000yGVpKSmoOIXAK8CNwD/Bb4nftaFiJSLyJ/FZHfuu+niMg9IrLefd2j3Hvkw6slyGJhwS8XVKT27JihkD5u+ksrZxZuop2EzfAwnJ43KUBxKmkVjRwpoBNI4jxCku772ozNpOpt0EwpUU7ZvWHDBjZu3MjGjRtpa2vj2muvDU0wgJnN4bPAIao6Q1VbVPVwVW0J4d6fBZ7wvL8SWKWq04FV7vtQ6VnfQ8tPWuha22VUHASC156NDCXS/hqRT0uo5C+y2H0rTX093BYg+L+SVtFI0YOTD6sLpyaHuq9d7v7qx4mYVL0Nmiklk7L7nnvuobm5mRkzZvD1r3+d/fbbb1Q7b8ruK664YlTK7nnz5jF79mzOP//8nJTds2fPZnh4mO7ubr7whS8wa9YsZs+ezZ/+9Cf/nQ0Zk5Td9wEfVNXQst2IyAHAMuDfgc+p6ski8hQwT1WfF5F9gftV9ZBi1/GTsju1JUXLT1oYSvuP0E1OSDJw5YDv8yLBvffC8ceXd41k0jFCe0mlHHfVYu6pjY2Ox1EmIK6pyXF1LUVmnSCZrE1eqHzjNTnHpK9Brh0ZUjgCoNhvqBEnFXs4kebGKbvzrOjB6LyP43VFL2jKbhPN4RngfhH5YogR0j8APg+MePa9TVWfB3Bf8/pmiUiHiKwWkdUvv/yy8Q2XPLiE9HCwJYpa1J4NjfnzHY+joBSa/ReLvC4UKf2JTzgz82LU18N5bpZ4E+2kEgTRWKJsFQ2NJTip1IuRBqqvHXk9n72+AB0dzv7xKhjKwUQ4/B3H3rAbu6KmA4faisjJwEuquibI+ap6narOVdW5e++9t/F5K/pWFK0UVYwgtWcjxVe/CqtWQXY05/TpMHFi8XOL6eN+f5GLFjlBc8Xw5mUyWS8wQcTpl+m1gthJqmGDqTkrMBMOtYkTaW52/Ca8HtdLl9p0WUExcWXNREp/L/O3+z4o7wdOFZGNwC3AfBFZAbzoLifhvr5Uxj1yCDr7D1p7NnLMnw+PPuq4hGa2p5921tf9zP6z8fOL9KtteNv7jXPIXG/lSidOYmAALrywcnaSathgao7pbyjO2pElg4m30tEi8jiu8VhEZonItUFvqKpfVNUDVHUqcBZwr6q2A3eyq+rcecAdQe+Rj6Cz/6C1Z6OAUfxGtfVxv/fLtD/nHLPrZ7SEfNerpOUy+9rTgKU4kUHD7uvSEfjfATyhIoPpbyjO2pElg4lB+i849RzvVNUj3H3rVDVYxqnR154HXOEapPcEfoWTruPvwBml6lT7MUh3/q6TrrVdxktLca89OyZr6oZhdayk5TJz7fnb4Jbh3OqnI/VQNwGnNGrMPnvAcVftovjSUgLowJGM5WNqkLYUppIGaVT12axdoVRkV9X7VfVk9+9XVfV4VZ3uvoaYJQ4WHb2IRH3pNWdBSE5I0jGng76L+kY9QIvNxKMUZX3vhns59ZZTx178Rhhajp9r+I12bm2Fx++CboFJjBYMAHXDOJ4+C4hCfIB/FuE8/IuRwCn7Wn1SqRSdnZ0kk0nq6upIJpN0dnaSGhOxJdXHRHPoBr6PMxU4CrgUmKuqZ1W+e8XxozlAebPpYufWiSNjR3Sk5rP0nvU9nHLzKQxrcfmdqEvQMafD1tstRGANw2R27SXhbnHRJnpwFhLSjB5jZcZh7sraQ1tbG+l0mrTn/5VIJEgkEnR3d9MaUCN84YUXuOyyy3j44YeZMGECU6dO5Qc/+AG77bYbJ598MuvWrfN9zRtvvJETTjghJ17CD/fffz8f/vCHOcitk3L66afz1a9+NaddJTWHi4CLcWo5bAZmu+9jR+v0Vvou6qNjTgfJCUnqpK6gluAltSVF261tBWfi24a3sW14W81n6Zl+lhIMmb4t77PZR/NiEu28YIFjhM6ZlZp49Iy6II420UY8NIhWnDiGDkZHSHe4+6sv4FKpFG1tbQwNDY0SDOBEGw8NDdHW1hZIg4h6yu5jjjmG3t5eent78wqGcjDxVnpFVc9R1bep6t6q2q6qr4baiyrSPKWZpQuWMnDlAMNfHWbgygGWLlhK85TCHjnlxEhA9aKs/fYz1vEblcQ0p9Mvf5mnbkXQz7Q28QHBaMZZSBjAWWEecN/Xxmd0yZIlOUIhm3Q6zdUBotOjnrK7kph4K00TkbtE5GUReUlE7hCRadXoXFQoJ0YCqjdL99vP2MdvVArTnE6qeXImBf1MaxcfEHdWrFhhJByWB8jZHeWU3QAPPvggs2bNorW11Sgfkx9MsrL+ErgG+Ij7/izgZuB9ofYkwoQxw67GLN3PPcZM/EYl8BvFPCpzbTv+bA6jbhzgHMtWw/+Xabsw8absPumkkzjhhBNy2nhTdoNT3W3ffffdebxQyu4jjzySv/3tbzQ1NbFy5UpOO+001q9fH1rfTWwOoqrLVXWHu63AybY1bghjhp25RiW9mvz0M87xGxXHbxTzqMy1Jh49BW8c8LxKEq0MrPloMvx/mbbzMmPGDNasKZ3MoVTK7nnz5nHNNddw4YUX5pybSdmdsR08+uij3H333TuPF0rZnUwmd45pwYIFpNNpXnnlFV/jK4aJcLhPRK4Ukaki8k4R+TzwOzfF9pTQehJh2lvaSdQFT+OQmaVnZ4VVdGftiJaftNCzvryMlqb9bKhroPuM7qJ2lnFNkJxOO2elzTgeO434ExIJIGqaXPQysOajvb2dRIn/VyKR4NwA0elRTtn9wgsvkPE2feihhxgZGWHPPff0PcZCmAiHM4H/BdwH3A8sxKkMtwYw9yONMaYxEoVI1Cc4/dDTi3o8DaWHOOXmU7h3w70V7We91POH9j/ELwCumgTJ6TRqVprt0WOS+qN28QH5SeF4UA2Ru0QWLQ+rRYsWGQmHywNEvkc5ZXd3dzczZ85k1qxZXHrppdxyyy1IiOV0S8Y5RBm/cQ7lUG6cw11P32UUod1Q18CdZ90Z+OE9JiOja0EmzuGNN0qXKE0knCC67Gp5oy9INeMDyqf60dD5iEKcQ9wJPc5BRN4jIm/3vP+E66n0o/GynOSlWIzEY52P8VjnY0XjJ0w9iXaM7CgrLiJoLIclCz85nYzyMUUvPqA40c7Amk1rayt9fX10dHSMipDu6Oigr69v3AqGciioOYjIWuADqrpFRI7FyaB6CU4Q3KGq2la1XhagmppDudQtrkMN7fg2ejlijMtKMnWY+Z3UEVI2nbzY3ErlU4kI6XpPfqMzgetU9deq+hXgXWX1dgxh6n3kx5PIRi/XmiwPndYz4bmPwJfOHEeVZKKTgTXOS9+1ppzPrqhwEJFMHMTxgNdSahIfMebx433k1+PJRi/XigIeOm/5FXz9Nhi4ZZxUkmnHLMleZT2sJk6cyKuvvmoFRABUlVdffZWJpQp6FaDYstKXcdJHvoKTRvtIVVUReRewTFXfH7DPoVHLZSWTmtSNiUb6LuqjeUqz7xrWYdStTm1JseTBJazoW8HW7Vtp2q2J9pZ2Fh29yLqx5qX6NZKjSzQ+i3Q6zaZNm3bGDUSPNPBP4HWciYTgpORNEjzeJTwmTpzIAQcckOPNZbKsVFADUNV/F5FVwL7A3bpLitTh2B7GNSZ5jDI5lTK5m7rP6DbOmFpu9HI+r6WMVrPskWXWaykvfmokj3V7UCZeo5SHVWWFZCKR2Jl1NHrEzQPNH9aVNSDJbycZ3D5Yul2WBnDvhns5ccWJ7BjJzbCYwatxBMGvVmPJkMRZSjJpV55WFw4pHIG2Aif1RhPOctAiwntop3CE4XLPPc7FickYz9+daGhWQQmt2I8lF1ObQHa7+QfN586z7qQx0Zhjg0jUJWhMNJYdvexHq7F4iVON5GpFL0crA2t08KNlxhMrHAJi6n2Ur10lYhG8XlM/Xv3jkjEV1iMqH9Hx0MnF60ElOObA6Ecvj13iFQcSBOt1FJD2lvaSEc/FbAeZuhJhxDIUioouhfWIysYko2otciAVWtsuxnixjdSKOGmZwbCaQ0BM8hhVI/NpsSp1pbD1HLKJYo3kYjmOihHvWWv0ibKWGQ5WOAQk431USduBCUGr1Nl6DvkollE14e6vvIfOaEzWtgsR31lr9IlGHEglscKhDKKQxyholTpbz6EQUcuB5LcmtZf4zlqjTxS1zHCxrqwxx0/OJrDZWeOHaY6jbCqfMXU01XCrjRrxjXOwrqzjAD92A5udNY4Enf1Xc9Yaj6JA4RM1LTNcrHCIOSY5mxJ1CS5+z8UMXDmwM1rbEhdM1ra9VNs2YlIUaAFRLTFaPmM3DsQKh5gTFa8pS6UwrUkt1GbWamowHy/axNjBCoeYExWvKUsxslKA+5pBm3hQrQRGqM2s1a/B3AbpxQUrHMYAUfCashQijPX4KK9tB3WXjXdqifGA9VaqNOPRicPiEu/kbGaYJissdG4UEhiOP6y3Uq0Zr04cFpexn5zNv8Hciw3SizJWOFQKEycOu+w6xqlUcrZybBhhY2owz4cN0osyVRcOIvIOEblPRJ4QkcdE5LPu/ikico+IrHdf96h230JlPEwaLSWoRHK2qKmjxQzmxYh3aonxQC00hx3AIlU9FDgKuFhEDgOuBFap6nRglfs+voz9jL6WkjSG3C6q6mi2wVwMzol3aonxQNWFg6o+r6pr3b8HgSeA/YEPA8vcZsuA06rdt1AZ+xl9LSWZGnK7KKuj3mCwERz32iglMLT4paY2BxGZChwB/AV4m6o+D44AAfapYdfKZ+xn9LWUZGPI7eKkjkbZ/TbOVM/eVDPhICJNwK+By1T1nz7O6xCR1SKy+uWXX65cB8tl7Gf0tZSkmAtrkHZF1MzUNOhcCsnXoO4fEclUMXZTS9SG6tqbaiIcRCSBIxhuUtXb3N0visi+7vF9gZfynauq16nqXFWdu/fee1enw0GoQEZfbynQusV1JL+dpPN3naS2WJenaBK2+ligXc+HoKUPuj4Ng28BrYuIy3SUvKriTvXtTbXwVhLgeuAJVf2+59CdwHnu3+cBd1S7b6ESct2YnvU9tPykha61XQxuH0RRBrcP0rW2i5aftNCz3gZNRI92oL5Em3rM1cc86mhqGrR1w9AkSO82+lhNXaaj5lUVd6pvb6qF5vB+nF/DfBHpdbcFwHeAD4rIeuCD7vt4E9Kya7FSoOmRNEPpIdpubbMaRORow1lOKcYwcLrh9fKoo0s+B+kSKmrVbdRR9aoqRBw0nOrbm2rhrfRHVRVVbVHV2e62UlVfVdXjVXW6+7ql2n2rCCEsu5qUAk0Pp7n6zzZoIlp0U/onVgfcVqJNhjzq6Ir2XI0hm6rbqKPsVZVNXDSc6rs/2gjpEkRhnd+kFGh6JM3yvih4qVh28Qsct85ijLDLg9uELHV062Sz00J5ZpjOsOPiVRUnDaf67o9WOBQhKuv8W7eb/bJN21mqxeuG7fz+3zzqaJPhT7jsZ4afGXZcgnzipOFU3/3RCocC3LvhXk695dTQ1/n9aiKpLSka6hqMru2nZKhljNA+AIntxdsktsO5r2Xt9LPO7neGHZcgn7hoOFAR98cSWOGQh571PZyw/AR2jOwo2s7vOr9fTSTTvlQ/wCnsc26LDZoYdyxaAokSD7hEGi7/gWeH33V2vzPsuAT5xEXDgdDdHw2w9RyySG1J0fKTFobSZoFJyQlJBq4snZPe5LqNiUb6LuqjeUqz7354z7VEhSbMlpaaCFYTIQUcCj3HO+6s6cRo43RiuyMYutug9U843hBBakyY1mzI1GeISx0Lv+OKAikcIbycXQVizsXRGMw/S1vPIQAmnkFeTNf5/XocmfZDEFsKNLJ8ArM4h/NKtMlHZvafhtbfQ18LdFwHyQGoG3ZeO65z9rf+nl2z3yDr7H5n2NWf5QYjLhqOl+pFnVvNIYvkt5MMbjefxTXt1sTgF0u3N71uRhMxbZ+oS/DExU9YwRA5UsBXgV+WaBdkBm0yM88mo50EmS0HnWGHM8utHHHRcMLHag4B8OvxM/WtU0O9bqadafthHbaCIXJkZvW3FmlTzgzaZPafzVT3Ncg6e9AZdtRzK8VFw6kNVjhk4dfjZ+NrG0O9bqad3/aWShAkcraYZ4+XjxE8O6mJl002G93XIJ5E1feUqR42e2whrHDIor2lnUSdeUUrU4OxyXW9Hkd+21vCJmjkrMmsPgG8leAz0iDeM5nvaRAtYKzPsKOu4dQGKxyyWHT0IhL15sLBdOZuct1EfYLLj7o8UHtLmJj69d9LrmbRleecbMr1nQ+iLWbOCaoF2Bn2eMMKhyyapzTTfUY39VLKy8TfzD1z3cZEY45GkKhL5Hgc+W1vCROT2f824ERyNQvT5Z5yfOdNsr168WoC5WgBdoY9nrDCIQ+t01u5+9y7S0Ym+525t05vpe+iPjrmdJCckKRO6khOSNIxp4O+i/pond5aVntLWJis6Q/jlEP3u/afoRxbkUm2Vy/ZmoDVAiylsa6sRehZ30PbrW2kh9OjUmgk6hIk6hN0n9FtH9BjkjocTaBSJHAexEsDnt8JXEdpASHA7jiagP2eWnZhXVnLxM7cxyuNFb5+uZ49KzDTHBoY+5pAHGoxxBOrOVgsOcwEHqvAdRPuVu5M3lSzqcPf8lPc6MFZYkszenkvrM957GI1B4slEBtDuk6CyqzpxyXraSWJUy2GeGKFg8WSg5+0FIXI2BUq4dkTx5xAYROnWgzxxKxQwBgktSXFkgeXsKJvBVu3b6VptyZOOfgUBOHOp+/cua+9pZ1FRy+yLqPjiqBZUr1UMmJ4EU71uGIPx7hGLJvipxZDUMP/+GZc2hwKeSHlw3omjUc6MQtmy0e1PITG+3q7tbuUg7U55CG1JUXbrW15K7zlw2/VtyjUnLaUi0kUcSEUR0Dchdl6d1Bvm/Eeq2DtLpVm3AkHv/UaMphUfYtKzWlLuRSLIjbhdUrnYILg+Zu8/RyvEcvW7lJpxp1wWNG3wkhjyCY9kmZ5X+F8OMU0klLaRzFtw2oitSJ7Zu6XUh4z1tumPMZypthoMO6Eg996Dabn+q30lqGYtjHj2hnMuHaG1URqhndmPiPgNQp5zFhvm/IY65lia8+4Ew7l1D+ol/qCM3YTjSRb+yilbWwb3sa24W2+NRFLJdgY8LxCGVj9eNtY8jPe7S6VZdwJB7/1GrzsGNlRcMbut9IbBLd/ZDCxg1jCopzYh3zfjSAV2Sy5jGe7S2UZd8LBb70GL4oWnLEHqdwW1P6RoZQdxBIm5Xi95DvXettYos24Ew7F6iSYkm/GHqRyWzn2jzCvYTHBxDsmH4U8Zqy3jSXajDvhAIWzrbYf3l6yhgPkn7EHqdwWRv1nW0O6WgSNfUgAR+Ek8xPP9n8pXbDHettYase4FA7gaBBLFyxl4MoBhr86zMCVAyw/fTnDI2bRlNkz9iCV28qxf2Sua2tIVwu/sQ8Zj5nTcWb/2Vle1wNvsiuiOd+51tvGUjvGrXAoRBDbQQa/9R/KsX+ArSFdfQp5x7QD55DrMfNTHK+kYqSBBXnOtd42ltoyLnMrFaPzd510re0qaihO1CXomNPB0gXlJ/QqVm2uThzZPaIjthJdLDGtCzETeLTCfbFYdhHL3Eoi8iEReUpE+kXkymrfP4jtoByKaRuPdT7GY52P2Up0scW0YNC6ivbCYglCpDQHEakHngY+CGwCHgY+rqqP52tfqUpwtna0JRzER9vo/A4tY584ag7vBfpV9RlV3Q7cAny42p2wtaMtFst4J2rFfvYHnvW83wS8z9tARDpwLHYceOCBFetIxpspDLuCZbwyA3Obg8USLaKmOeTTw0fp26p6narOVdW5e++9d5W6ZbEE4UeG7X5Y0V5YLEGImnDYBLzD8/4A4Lka9cViKZP5wOISbRa77SyWaBE14fAwMF1EDhKR3YCzgDtr3CeLpQy+Cqwid+loprv/q1XvkcViQqRsDqq6Q0Q+A/wBJ7fAz1XV1B/QYoko87FxDJa4ESnhAKCqK4GVte6HxWKxjGeitqxksVgslghghYPFYrFYcohUhLRfRORl4G9VvOVewCtVvF+lsOOIFnYc0WEsjAFKj+Odqlo0FiDWwqHaiMjqUiHnccCOI1rYcUSHsTAGCGccdlnJYrFYLDlY4WCxWCyWHKxw8Md1te5ASNhxRAs7jugwFsYAIYzD2hwsFovFkoPVHCwWi8WSgxUOFovFYsnBCoc8iMg7ROQ+EXlCRB4Tkc+6+6eIyD0ist593aPWfTVBROpF5K8i8lv3fezGISJvFZFuEXnS/b8cHdNxXO5+p9aJyM0iMjEO4xCRn4vISyKyzrOvYL9F5Ituqd+nROTE2vQ6lwLj+K77veoTkdtF5K2eY7EZh+fYFSKiIrKXZ5/vcVjhkJ8dwCJVPRQ4CrhYRA4DrgRWqep0nJSaVa9xHZDPAk943sdxHD8Efq+q7wZm4YwnVuMQkf2BS4G5qjoTJ7nkWcRjHDcCH8ral7ff7m/lLJxqRx8CrnVLAEeBG8kdxz3ATFVtwSlT/EWI5TgQkXfglFn+u2dfoHFY4ZAHVX1eVde6fw/iPIj2xylZusxttgw4rSYd9IGIHACcBHR5dsdqHCKSBI4FrgdQ1e2q+hoxG4dLA7C7iDQAjTj1SiI/DlX9b2BL1u5C/f4wcIuqblPVDUA/TgngmpNvHKp6t6rucN/+GaeODMRsHC5XA59ndJG0QOOwwqEEIjIVOAL4C/A2VX0eHAEC7FPDrpnyA5wvy4hnX9zGMQ14GbjBXR7rEpFJxGwcqroZ+B7OrO55YEBV7yZm4/BQqN/5yv3uX+W+BeWTQI/7d6zGISKnAptV9ZGsQ4HGYYVDEUSkCfg1cJmq/rPW/fGLiJwMvKSqa2rdlzJpAI4EfqyqRwCvE82ll6K4a/IfBg4C9gMmiUh7bXtVEUqW+40iIvJlnCXlmzK78jSL5DhEpBH4MvmrRwUahxUOBRCRBI5guElVb3N3vygi+7rH9wVeqlX/DHk/cKqIbARuAeaLyAriN45NwCZV/Yv7vhtHWMRtHB8ANqjqy6qaBm4D/oX4jSNDoX7HrtyviJwHnAyco7uCv+I0jmacSccj7u/9AGCtiLydgOOwwiEPIiI469tPqOr3PYfuBM5z/z4PuKPaffODqn5RVQ9Q1ak4Bql7VbWd+I3jBeBZETnE3XU88DgxGwfOctJRItLofseOx7FnxW0cGQr1+07gLBGZICIHAdOBh2rQPyNE5EPAF4BTVXXIcyg241DVR1V1H1Wd6v7eNwFHur+dYONQVbtlbcC/4qhdfUCvuy0A9sTxyljvvk6pdV99jGke8Fv379iNA5gNrHb/J78B9ojpOBYDTwLrgOXAhDiMA7gZx06Sdh88nyrWb5wljhTwFNBa6/6XGEc/zpp85rf+kziOI+v4RmCvcsZh02dYLBaLJQe7rGSxWCyWHKxwsFgsFksOVjhYLBaLJQcrHCwWi8WSgxUOFovFYsnBCgfLmEFEPuJmo3x3De690ZsFs9R+iyXqWOFgGUt8HPgjTsCfxWIpAyscLGMCNw/W+3GCms7y7J8nIvd7akHc5EYnZ2b1i0VkrYg8mtE4ROTrInKF5xrr3ASMiMhvRGSNW5Ohw0f/popTh+Jn7rl3i8ju7rF3icj/FZFH3L40i8N33Xs/KiJnesbzgIj8SkSeFpHviMg5IvKQ267Zbbe3iPxaRB52t/eX+xlbxhdWOFjGCqfh1Ht4GtgiIkd6jh0BXAYchpPh1fugfEVVjwR+DFxBaT6pqnOAucClIrKnjz5OB65R1RnAa8BH3f03uftn4eRaeh44HScqfBZOTqbvZvIYufs+CxwOnAscrKrvxUnLfonb5ofA1ar6Hvc+3pTtFktJrHCwjBU+jpNcEPf1455jD6nqJlUdwUmPMNVzLJNUcU3W/kJcKiKP4OT9fwfOA9+UDara672fiEwG9lfV2wFU9U118vv8K3Czqg6r6ovAA8B73HMfVqfmyDaclAh3u/sf9YzhA8BSEenFya2TdO9lsRjRUOsOWCzl4s7e5wMzRURxKqypiHzebbLN03yY0d/7bXn272D0xGmie595OA/do1V1SETuzxwzJLsfu5M/nTJF9mdfZ8TzfoRdY6hz+/mGj/5ZLDuxmoNlLNAG/EJV36lOVsp3ABtwZt9B2IiTEhx3eeogd/9bgH+4guHdOCVky0KdOiGbROQ0934T3Nz8/w2cKU79771xKuH5yQh6N/CZzBsRmV1uXy3jCyscLGOBjwO3Z+37NXB2wOv9GpjiLsksxKkrDPB7oEFE+oBv4iwthcG5OMtVfcCfgLfjjKcPeAS4F/i8OumXTbkUmCsifSLyOHBRSH21jBNsVlaLxWKx5GA1B4vFYrHkYIWDxWKxWHKwwsFisVgsOVjhYLFYLJYcrHCwWCwWSw5WOFgsFoslByscLBaLxZLD/wdI0kYS9ymsjQAAAABJRU5ErkJggg==\n",
      "text/plain": [
       "<Figure size 432x288 with 1 Axes>"
      ]
     },
     "metadata": {
      "needs_background": "light"
     },
     "output_type": "display_data"
    }
   ],
   "source": [
    "# visulization 2D graph\n",
    "plt.scatter(X.iloc[y_means==0,0],X.iloc[y_means==0,1],s=100,c='red',label=\"Cluster 1\")\n",
    "\n",
    "plt.scatter(X.iloc[y_means==1,0],X.iloc[y_means==1,1],s=100,c='yellow',label=\"Cluster 2\")\n",
    "\n",
    "plt.scatter(X.iloc[y_means==2,0],X.iloc[y_means==2,1],s=100,c='green',label=\"Cluster 3\")\n",
    "\n",
    "plt.scatter(X.iloc[y_means==3,0],X.iloc[y_means==3,1],s=100,c='blue',label=\"Cluster 4\")\n",
    "\n",
    "plt.scatter(X.iloc[y_means==4,0],X.iloc[y_means==4,1],s=100,c='black',label=\"Cluster 5\")\n",
    "\n",
    "plt.scatter(k_means.cluster_centers_[:,0],k_means.cluster_centers_[:,1],s=100,c=\"magenta\")\n",
    "\n",
    "plt.title(\"Customer Segmentation\")\n",
    "plt.xlabel(\"Annual Income\")\n",
    "plt.ylabel(\"Spending Score\")\n",
    "\n",
    "plt.legend()\n",
    "plt.show()"
   ]
  },
  {
   "cell_type": "code",
   "execution_count": 22,
   "metadata": {
    "colab": {
     "base_uri": "https://localhost:8080/"
    },
    "id": "5QZG1WFJ4Ywb",
    "outputId": "b5ae6586-4216-4851-a2ac-e530bb6c1985"
   },
   "outputs": [
    {
     "data": {
      "text/plain": [
       "array([2])"
      ]
     },
     "execution_count": 22,
     "metadata": {},
     "output_type": "execute_result"
    }
   ],
   "source": [
    "# prediction part\n",
    "# 15 is Annual income & 30 is Spending Score\n",
    "#array[4] means output cluster 4\n",
    "#output array([2]) means cluster 3 bcz index starting from 0\n",
    "k_means.predict([[15,39]])"
   ]
  },
  {
   "cell_type": "code",
   "execution_count": null,
   "metadata": {
    "id": "jAMfWHt77XEa"
   },
   "outputs": [],
   "source": []
  },
  {
   "cell_type": "markdown",
   "metadata": {
    "id": "OHvQAStO77Ue"
   },
   "source": [
    "### 10. Save The Model"
   ]
  },
  {
   "cell_type": "code",
   "execution_count": 23,
   "metadata": {
    "colab": {
     "base_uri": "https://localhost:8080/"
    },
    "id": "4xTO_JrH8BvT",
    "outputId": "9f10a678-6230-4a88-9194-9a06cff567b2"
   },
   "outputs": [
    {
     "data": {
      "text/plain": [
       "['Customer_Segmentation']"
      ]
     },
     "execution_count": 23,
     "metadata": {},
     "output_type": "execute_result"
    }
   ],
   "source": [
    "import joblib\n",
    "\n",
    "joblib.dump(k_means,\"Customer_Segmentation\")"
   ]
  },
  {
   "cell_type": "markdown",
   "metadata": {
    "id": "bUGxyaKv8jnS"
   },
   "source": [
    "### 11. Model Load For Predict Value"
   ]
  },
  {
   "cell_type": "code",
   "execution_count": 24,
   "metadata": {
    "colab": {
     "base_uri": "https://localhost:8080/"
    },
    "id": "Ej6XdR258pdq",
    "outputId": "7b525ea4-e9b9-4e60-ea60-d75d806b1d6d"
   },
   "outputs": [
    {
     "data": {
      "text/plain": [
       "array([2])"
      ]
     },
     "execution_count": 24,
     "metadata": {},
     "output_type": "execute_result"
    }
   ],
   "source": [
    "model = joblib.load(\"Customer_Segmentation\")\n",
    "\n",
    "model.predict([[15,39]])"
   ]
  },
  {
   "cell_type": "markdown",
   "metadata": {
    "id": "CZ4Opk9XFKPT"
   },
   "source": [
    "# GUI"
   ]
  },
  {
   "cell_type": "code",
   "execution_count": 28,
   "metadata": {
    "id": "pqPkeqp1FMs5"
   },
   "outputs": [],
   "source": [
    "from tkinter import  *\n",
    "\n",
    "import joblib\n"
   ]
  },
  {
   "cell_type": "code",
   "execution_count": 30,
   "metadata": {
    "colab": {
     "base_uri": "https://localhost:8080/",
     "height": 356
    },
    "id": "PvofijoEFWY3",
    "outputId": "60b3cb7c-b075-4d45-9cff-575be4cc97fe"
   },
   "outputs": [
    {
     "name": "stdout",
     "output_type": "stream",
     "text": [
      "This Customer belongs to cluster no:  2\n"
     ]
    }
   ],
   "source": [
    "def show_entry_fields():\n",
    "    p1=int(e1.get())\n",
    "    p2=int(e2.get())\n",
    "    \n",
    "    model = joblib.load('Customer_Segmentation')\n",
    "    result=model.predict([[p1,p2]])\n",
    "    print(\"This Customer belongs to cluster no: \", result[0])\n",
    "    \n",
    "    if result[0] == 0:\n",
    "        Label(master, text=\"Customers with medium annual income and medium annual spend\").grid(row=31)\n",
    "    elif result[0]==1:\n",
    "        Label(master, text=\"Customers with high annual income but low annual spend\").grid(row=31)\n",
    "    elif result[0]==2:\n",
    "        Label(master, text=\"Customers with low annual income and low annual spend\").grid(row=31)\n",
    "    elif result[0]==3:\n",
    "        Label(master, text=\"Customers low annual income but high annual spend\").grid(row=31)\n",
    "    elif result[0]==4:\n",
    "        Label(master, text=\"Customers with high annual income and high annual spend\").grid(row=31)\n",
    "\n",
    "master = Tk()\n",
    "master.title(\"Customer Segmentation Using Machine Learning\")\n",
    "\n",
    "\n",
    "label = Label(master, text = \"Customer Segmentation Using Machine Learning\"\n",
    "                          , bg = \"black\", fg = \"white\"). \\\n",
    "                               grid(row=0,columnspan=2)\n",
    "\n",
    "Label(master,text=\"Annual Income\").grid(row=1)\n",
    "Label(master, text=\"Spending Score\").grid(row=2)\n",
    "\n",
    "\n",
    "e1 = Entry(master)\n",
    "\n",
    "e2 = Entry(master)\n",
    "\n",
    "e1.grid(row=1, column=1)\n",
    "e2.grid(row=2, column=1)\n",
    "\n",
    "Button(master, text='Predict', command=show_entry_fields).grid()\n",
    "\n",
    "mainloop()"
   ]
  },
  {
   "cell_type": "code",
   "execution_count": null,
   "metadata": {
    "id": "cLMZQKQjKPCe"
   },
   "outputs": [],
   "source": []
  }
 ],
 "metadata": {
  "colab": {
   "collapsed_sections": [],
   "provenance": []
  },
  "kernelspec": {
   "display_name": "Python 3",
   "language": "python",
   "name": "python3"
  },
  "language_info": {
   "codemirror_mode": {
    "name": "ipython",
    "version": 3
   },
   "file_extension": ".py",
   "mimetype": "text/x-python",
   "name": "python",
   "nbconvert_exporter": "python",
   "pygments_lexer": "ipython3",
   "version": "3.8.8"
  }
 },
 "nbformat": 4,
 "nbformat_minor": 4
}


Suraj Tate
Data Scientist
